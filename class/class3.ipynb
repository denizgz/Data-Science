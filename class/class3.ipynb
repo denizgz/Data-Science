{
 "cells": [
  {
   "cell_type": "markdown",
   "metadata": {},
   "source": [
    "### Class 3\n",
    "\n",
    "1. Hypothesis Tests\n",
    "    * 1-sample\n",
    "    * 2-sample\n",
    "2. Permutation Tests\n"
   ]
  },
  {
   "cell_type": "markdown",
   "metadata": {},
   "source": [
    "#### WarmUp/Review Exercises\n",
    "\n",
    "Load the *Auto.csv* data (into a dataframe *cars*) for the following tasks and create a scatter plot `mpg ~ weight`.\n",
    "Take a look at row with index $25$ (i.e. row 26); we will refer to that data point as $x_{25}$ from now on.\n",
    "\n",
    "* Compute the standard score for \n",
    "    * $x_{25}$[\"mpg\"]\n",
    "    * $x_{25}$[\"weight\"]\n",
    "* Compute the product of these standard scores (call it $p_{25}$).\n",
    "* If you repeated this process for all rows of the *cars* dataframe and averaged all products $p_{i}$, what would the resulting number tell you ? (What is it called?)\n",
    "* Take a bootstrap sample from cars.mpg and compute the mean\n"
   ]
  },
  {
   "cell_type": "code",
   "execution_count": 2,
   "metadata": {},
   "outputs": [
    {
     "name": "stdout",
     "output_type": "stream",
     "text": [
      "mpg                    10\n",
      "cylinders               8\n",
      "displacement          360\n",
      "horsepower            215\n",
      "weight               4615\n",
      "acceleration           14\n",
      "year                   70\n",
      "origin                  1\n",
      "name            ford f250\n",
      "Manufacturer         ford\n",
      "Name: 25, dtype: object\n"
     ]
    },
    {
     "data": {
      "image/png": "[encoded data removed]",
      "text/plain": [
       "<Figure size 432x288 with 1 Axes>"
      ]
     },
     "metadata": {
      "needs_background": "light"
     },
     "output_type": "display_data"
    },
    {
     "data": {
      "text/html": [
       "<div>\n",
       "<style scoped>\n",
       "    .dataframe tbody tr th:only-of-type {\n",
       "        vertical-align: middle;\n",
       "    }\n",
       "\n",
       "    .dataframe tbody tr th {\n",
       "        vertical-align: top;\n",
       "    }\n",
       "\n",
       "    .dataframe thead th {\n",
       "        text-align: right;\n",
       "    }\n",
       "</style>\n",
       "<table border=\"1\" class=\"dataframe\">\n",
       "  <thead>\n",
       "    <tr style=\"text-align: right;\">\n",
       "      <th></th>\n",
       "      <th>mpg</th>\n",
       "      <th>cylinders</th>\n",
       "      <th>displacement</th>\n",
       "      <th>horsepower</th>\n",
       "      <th>weight</th>\n",
       "      <th>acceleration</th>\n",
       "      <th>year</th>\n",
       "      <th>origin</th>\n",
       "      <th>name</th>\n",
       "      <th>Manufacturer</th>\n",
       "    </tr>\n",
       "  </thead>\n",
       "  <tbody>\n",
       "    <tr>\n",
       "      <th>0</th>\n",
       "      <td>18.0</td>\n",
       "      <td>8</td>\n",
       "      <td>307.0</td>\n",
       "      <td>130</td>\n",
       "      <td>3504</td>\n",
       "      <td>12.0</td>\n",
       "      <td>70</td>\n",
       "      <td>1</td>\n",
       "      <td>chevrolet chevelle malibu</td>\n",
       "      <td>chevrolet</td>\n",
       "    </tr>\n",
       "    <tr>\n",
       "      <th>1</th>\n",
       "      <td>15.0</td>\n",
       "      <td>8</td>\n",
       "      <td>350.0</td>\n",
       "      <td>165</td>\n",
       "      <td>3693</td>\n",
       "      <td>11.5</td>\n",
       "      <td>70</td>\n",
       "      <td>1</td>\n",
       "      <td>buick skylark 320</td>\n",
       "      <td>buick</td>\n",
       "    </tr>\n",
       "    <tr>\n",
       "      <th>2</th>\n",
       "      <td>18.0</td>\n",
       "      <td>8</td>\n",
       "      <td>318.0</td>\n",
       "      <td>150</td>\n",
       "      <td>3436</td>\n",
       "      <td>11.0</td>\n",
       "      <td>70</td>\n",
       "      <td>1</td>\n",
       "      <td>plymouth satellite</td>\n",
       "      <td>plymouth</td>\n",
       "    </tr>\n",
       "    <tr>\n",
       "      <th>3</th>\n",
       "      <td>16.0</td>\n",
       "      <td>8</td>\n",
       "      <td>304.0</td>\n",
       "      <td>150</td>\n",
       "      <td>3433</td>\n",
       "      <td>12.0</td>\n",
       "      <td>70</td>\n",
       "      <td>1</td>\n",
       "      <td>amc rebel sst</td>\n",
       "      <td>amc</td>\n",
       "    </tr>\n",
       "    <tr>\n",
       "      <th>4</th>\n",
       "      <td>17.0</td>\n",
       "      <td>8</td>\n",
       "      <td>302.0</td>\n",
       "      <td>140</td>\n",
       "      <td>3449</td>\n",
       "      <td>10.5</td>\n",
       "      <td>70</td>\n",
       "      <td>1</td>\n",
       "      <td>ford torino</td>\n",
       "      <td>ford</td>\n",
       "    </tr>\n",
       "  </tbody>\n",
       "</table>\n",
       "</div>"
      ],
      "text/plain": [
       "    mpg  cylinders  displacement  horsepower  weight  acceleration  year  \\\n",
       "0  18.0          8         307.0         130    3504          12.0    70   \n",
       "1  15.0          8         350.0         165    3693          11.5    70   \n",
       "2  18.0          8         318.0         150    3436          11.0    70   \n",
       "3  16.0          8         304.0         150    3433          12.0    70   \n",
       "4  17.0          8         302.0         140    3449          10.5    70   \n",
       "\n",
       "   origin                       name Manufacturer  \n",
       "0       1  chevrolet chevelle malibu    chevrolet  \n",
       "1       1          buick skylark 320        buick  \n",
       "2       1         plymouth satellite     plymouth  \n",
       "3       1              amc rebel sst          amc  \n",
       "4       1                ford torino         ford  "
      ]
     },
     "execution_count": 2,
     "metadata": {},
     "output_type": "execute_result"
    }
   ],
   "source": [
    "%run ./ourFunctions.py\n",
    "%precision 3\n",
    "cars = pd.read_csv('data/Auto.csv')\n",
    "#cars4.shape\n",
    "\n",
    "# create a scatter plot weight mpg\n",
    "print(cars.iloc[25,])\n",
    "plt.scatter(\"weight\", \"mpg\",data=cars)\n",
    "plt.xlabel(\"weight\")\n",
    "plt.ylabel(\"mpg\")\n",
    "plt.show()\n",
    "cars.head()"
   ]
  },
  {
   "cell_type": "code",
   "execution_count": 7,
   "metadata": {},
   "outputs": [
    {
     "data": {
      "text/plain": [
       "mpg                    10\n",
       "cylinders               8\n",
       "displacement          360\n",
       "horsepower            215\n",
       "weight               4615\n",
       "acceleration           14\n",
       "year                   70\n",
       "origin                  1\n",
       "name            ford f250\n",
       "Manufacturer         ford\n",
       "Name: 25, dtype: object"
      ]
     },
     "execution_count": 7,
     "metadata": {},
     "output_type": "execute_result"
    }
   ],
   "source": [
    "cars.iloc[25,]"
   ]
  },
  {
   "cell_type": "code",
   "execution_count": 14,
   "metadata": {},
   "outputs": [
    {
     "data": {
      "text/plain": [
       "-3.3209517190241598"
      ]
     },
     "execution_count": 14,
     "metadata": {},
     "output_type": "execute_result"
    }
   ],
   "source": [
    "mpg = (cars.mpg.iloc[25,] - cars.mpg.mean()) / cars.mpg.std()\n",
    "weight = (cars.weight.iloc[25,] - cars.weight.mean()) / cars.weight.std()\n",
    "\n",
    "p25 = mpg * weight\n",
    "p25"
   ]
  },
  {
   "cell_type": "code",
   "execution_count": 15,
   "metadata": {},
   "outputs": [
    {
     "name": "stdout",
     "output_type": "stream",
     "text": [
      "bootstrap sample of cars.mpg:  23.43852040816327\n"
     ]
    }
   ],
   "source": [
    "bs_cars_mpg = bootstrap_replicate_1d(cars.mpg, np.mean)\n",
    "print('bootstrap sample of cars.mpg: ', bs_cars_mpg)"
   ]
  },
  {
   "cell_type": "code",
   "execution_count": 3,
   "metadata": {},
   "outputs": [
    {
     "name": "stdout",
     "output_type": "stream",
     "text": [
      "mpg                    10\n",
      "cylinders               8\n",
      "displacement          360\n",
      "horsepower            215\n",
      "weight               4615\n",
      "acceleration           14\n",
      "year                   70\n",
      "origin                  1\n",
      "name            ford f250\n",
      "Manufacturer         ford\n",
      "Name: 25, dtype: object\n"
     ]
    },
    {
     "data": {
      "image/png": "[encoded data removed]",
      "text/plain": [
       "<Figure size 432x288 with 1 Axes>"
      ]
     },
     "metadata": {
      "needs_background": "light"
     },
     "output_type": "display_data"
    },
    {
     "data": {
      "text/html": [
       "<div>\n",
       "<style scoped>\n",
       "    .dataframe tbody tr th:only-of-type {\n",
       "        vertical-align: middle;\n",
       "    }\n",
       "\n",
       "    .dataframe tbody tr th {\n",
       "        vertical-align: top;\n",
       "    }\n",
       "\n",
       "    .dataframe thead th {\n",
       "        text-align: right;\n",
       "    }\n",
       "</style>\n",
       "<table border=\"1\" class=\"dataframe\">\n",
       "  <thead>\n",
       "    <tr style=\"text-align: right;\">\n",
       "      <th></th>\n",
       "      <th>mpg</th>\n",
       "      <th>cylinders</th>\n",
       "      <th>displacement</th>\n",
       "      <th>horsepower</th>\n",
       "      <th>weight</th>\n",
       "      <th>acceleration</th>\n",
       "      <th>year</th>\n",
       "      <th>origin</th>\n",
       "      <th>name</th>\n",
       "      <th>Manufacturer</th>\n",
       "    </tr>\n",
       "  </thead>\n",
       "  <tbody>\n",
       "    <tr>\n",
       "      <th>0</th>\n",
       "      <td>18.0</td>\n",
       "      <td>8</td>\n",
       "      <td>307.0</td>\n",
       "      <td>130</td>\n",
       "      <td>3504</td>\n",
       "      <td>12.0</td>\n",
       "      <td>70</td>\n",
       "      <td>1</td>\n",
       "      <td>chevrolet chevelle malibu</td>\n",
       "      <td>chevrolet</td>\n",
       "    </tr>\n",
       "    <tr>\n",
       "      <th>1</th>\n",
       "      <td>15.0</td>\n",
       "      <td>8</td>\n",
       "      <td>350.0</td>\n",
       "      <td>165</td>\n",
       "      <td>3693</td>\n",
       "      <td>11.5</td>\n",
       "      <td>70</td>\n",
       "      <td>1</td>\n",
       "      <td>buick skylark 320</td>\n",
       "      <td>buick</td>\n",
       "    </tr>\n",
       "    <tr>\n",
       "      <th>2</th>\n",
       "      <td>18.0</td>\n",
       "      <td>8</td>\n",
       "      <td>318.0</td>\n",
       "      <td>150</td>\n",
       "      <td>3436</td>\n",
       "      <td>11.0</td>\n",
       "      <td>70</td>\n",
       "      <td>1</td>\n",
       "      <td>plymouth satellite</td>\n",
       "      <td>plymouth</td>\n",
       "    </tr>\n",
       "    <tr>\n",
       "      <th>3</th>\n",
       "      <td>16.0</td>\n",
       "      <td>8</td>\n",
       "      <td>304.0</td>\n",
       "      <td>150</td>\n",
       "      <td>3433</td>\n",
       "      <td>12.0</td>\n",
       "      <td>70</td>\n",
       "      <td>1</td>\n",
       "      <td>amc rebel sst</td>\n",
       "      <td>amc</td>\n",
       "    </tr>\n",
       "    <tr>\n",
       "      <th>4</th>\n",
       "      <td>17.0</td>\n",
       "      <td>8</td>\n",
       "      <td>302.0</td>\n",
       "      <td>140</td>\n",
       "      <td>3449</td>\n",
       "      <td>10.5</td>\n",
       "      <td>70</td>\n",
       "      <td>1</td>\n",
       "      <td>ford torino</td>\n",
       "      <td>ford</td>\n",
       "    </tr>\n",
       "  </tbody>\n",
       "</table>\n",
       "</div>"
      ],
      "text/plain": [
       "    mpg  cylinders  displacement  horsepower  weight  acceleration  year  \\\n",
       "0  18.0          8         307.0         130    3504          12.0    70   \n",
       "1  15.0          8         350.0         165    3693          11.5    70   \n",
       "2  18.0          8         318.0         150    3436          11.0    70   \n",
       "3  16.0          8         304.0         150    3433          12.0    70   \n",
       "4  17.0          8         302.0         140    3449          10.5    70   \n",
       "\n",
       "   origin                       name Manufacturer  \n",
       "0       1  chevrolet chevelle malibu    chevrolet  \n",
       "1       1          buick skylark 320        buick  \n",
       "2       1         plymouth satellite     plymouth  \n",
       "3       1              amc rebel sst          amc  \n",
       "4       1                ford torino         ford  "
      ]
     },
     "execution_count": 3,
     "metadata": {},
     "output_type": "execute_result"
    }
   ],
   "source": [
    "%run ./ourFunctions.py\n",
    "%precision 3\n",
    "cars = pd.read_csv('data/Auto.csv')\n",
    "#cars4.shape\n",
    "\n",
    "# create a scatter plot weight mpg\n",
    "print(cars.iloc[25,])\n",
    "plt.scatter(\"origin\", \"mpg\",data=cars)\n",
    "plt.xlabel(\"origin\")\n",
    "plt.ylabel(\"mpg\")\n",
    "plt.show()\n",
    "cars.head()"
   ]
  },
  {
   "cell_type": "code",
   "execution_count": 2,
   "metadata": {
    "scrolled": true
   },
   "outputs": [
    {
     "name": "stdout",
     "output_type": "stream",
     "text": [
      "standard score mpg:  -1.7249312931191398\n",
      "standard score weight:  1.930190040010798\n",
      "p25:  -3.3294452016815104\n",
      "p:  -326.2397322139775\n",
      "cars.mpg:  23.44591836734694\n",
      "bootstrap sample of cars.mpg:  24.100510204081633\n"
     ]
    }
   ],
   "source": [
    "# compute the standard score for x25 mpg, weight \n",
    "# Z (standard score Standardisierung) = X - mü (arithmetic middle) / sigma (standard deviation)\n",
    "z_mpg = (cars.mpg.loc[25,] - cars.mpg.mean()) / np.std(cars.mpg)\n",
    "print('standard score mpg: ', z_mpg)\n",
    "\n",
    "z_weight = (cars.weight.loc[25,] - cars.weight.mean()) /np.std(cars.weight)\n",
    "print('standard score weight: ', z_weight)\n",
    "\n",
    "p25 = z_mpg * z_weight\n",
    "print(\"p25: \", p25)\n",
    "\n",
    "\n",
    "z_mpg_all = (cars.mpg - cars.mpg.mean()) / np.std(cars.mpg)\n",
    "# print('standard score mpg all: ', z_mpg_all)\n",
    "\n",
    "z_weight_all = (cars.weight - cars.weight.mean()) / np.std(cars.weight)\n",
    "# print('standard score weight all: ', z_weight_all)\n",
    "\n",
    "p = np.sum(z_mpg_all * z_weight_all)\n",
    "print(\"p: \", p)\n",
    "\n",
    "\n",
    "# bootstrap_replicate_1d(data, func)\n",
    "cars_mpg_mean = np.mean(cars.mpg)\n",
    "print('cars.mpg: ', cars_mpg_mean)\n",
    "\n",
    "bs_cars_mpg = bootstrap_replicate_1d(cars.mpg, np.mean)\n",
    "print('bootstrap sample of cars.mpg: ', bs_cars_mpg)"
   ]
  },
  {
   "cell_type": "markdown",
   "metadata": {},
   "source": [
    "## Hypothesis Tests\n",
    "\n",
    "We have learned about the **bootstrap** as a slick way of resampling your data to obtain sampling distributions of various measures of interest, \n",
    "Without having to learn highly specific distributions (such as the $\\chi^2$, Poisson, Binomial or F-distribution) the bootstrap enables us to \n",
    "\n",
    "\n",
    "1. get **confidence intervals**\n",
    "2. perform **one-sample tests**\n",
    "3. perform **two-sample tests**\n",
    "\n",
    "Imagine the EPA requiring the average mpg for 4-cylinder cars to be at least $\\mu_0 = 30$ and needs to decide -based on this sample only- whether the manufacturers need to implement some improvements.\n",
    "In statistical jargon: can the EPA **reject the claim** that the **true mean** is at least 30 ?\n"
   ]
  },
  {
   "cell_type": "code",
   "execution_count": 33,
   "metadata": {},
   "outputs": [
    {
     "data": {
      "text/plain": [
       "29.284"
      ]
     },
     "execution_count": 33,
     "metadata": {},
     "output_type": "execute_result"
    }
   ],
   "source": [
    "cars4=cars[cars[\"cylinders\"]==4]\n",
    "empirical_mean = np.mean(cars4.mpg)\n",
    "empirical_mean"
   ]
  },
  {
   "cell_type": "markdown",
   "metadata": {},
   "source": [
    "##### There, we have it, the empirical mean is in fact below 30.\n",
    "Is this sufficient evidence for the EPA to demand improvements ? \n",
    "Does $\\bar{x} < \\mu_0$ \"prove\" that $\\mu < \\mu_0$ ??\n",
    "\n",
    "Think about an experiment which tries to establish whether a pair of dice in a casino is biased (\"gezinkt\" in German). You toss the dice $50$ times and observe an average number of pips of $\\bar{x} = 3.8$ which is clearly \"way above\" the required value of $\\mu_0 = 3.5$ for a clean pair of dice. Should you go to the authorities and file a complaint ? Since no one really knows the true value of $\\mu$ for these dice, how would a court decide whether they are unbiased ?\n",
    "\n",
    "1. **Innocent until proven guilty**: Always assume the opposite of what you want to illustrate ! That way you can gather evidence against this **Null hypothesis**, e.g. $H_0: \\mu = 3.5 (\\equiv \\mu_0)$. \n",
    "2. Define a **test statistic** which is pertinent to the question you are seeking to answer (computed entirely from your sample). In this case, your test statistics could be e.g. the (scaled?) difference between the observed sample mean and the claim: $\\bar{x} - \\mu_0$.\n",
    "3. We define the **p-value** as the probability of observing a test statistic equally or more extreme than the one observed, given that $H_0$ is true.\n",
    "4. If the observed value of your test statistic seems very unlikely under $H_0$ we would favor the **alternative hypothesis** which is usually complementary, e.g. $H_A: \\mu \\neq 3.5$ \n",
    "\n",
    "\n",
    "Notice that we used vague expressions such as *unlikely* in the procedure above. In a legal context, we would want to make statements such as \"beyond a reasonable doubt\". Well, in statistics we ry to quantifiy that notion by limiting the type-I error probability $\\alpha$  to be at most e.g. $0.01$ or $0.05$. So none our decisions are ever \"proofs\" or free of error.\n",
    "\n",
    "It also means that you, the person conducting the hypothesis test, need to specify a value of $\\alpha$, which clearly introduces a certain amount of subjectivity. Later on, we will discuss the inherent tradeoffs between type-I and type-II errors: only then will one fully understand the non-arbitrary choice of $\\alpha$.\n"
   ]
  },
  {
   "cell_type": "markdown",
   "metadata": {},
   "source": [
    "### Parametric Tests\n",
    "\n",
    "1. From the sample, compute $\\bar{x}$ and $\\hat{\\sigma}$.\n",
    "2. Compute the test statistic \n",
    "$$t = \\frac{\\bar{x} - \\mu_0}{\\hat{\\sigma}/\\sqrt{n}}$$\n",
    "3. Reject $H_0$ \n",
    "    * Two-sided test: if $|t| > t_{n-1, 1-\\alpha/2}$ \n",
    "    * Left-sided test: if $t   < t_{n-1, \\alpha}$ \n",
    "    * Right-sided test: if $t   > t_{n-1, 1-\\alpha}$\n",
    "    * If $n>50$ one may replace the t distribution with the normal\n",
    "4. Define the p-value as twice the tail area of a t distribution \n",
    "5. Alternatively one rejects the Null if p-val $< \\alpha$.\n",
    "\n",
    "Back to the casino example, assume the following empirical data:\n",
    "\n",
    "$\\bar{x} = 3.8, n = 100, \\hat{\\sigma} = 1.7$\n",
    "\n",
    "$H_0: \\mu = 3.5$, $H_A: \\mu \\neq 3.5$, $\\alpha = 0.01$"
   ]
  },
  {
   "cell_type": "code",
   "execution_count": 42,
   "metadata": {},
   "outputs": [
    {
     "name": "stdout",
     "output_type": "stream",
     "text": [
      "1.959963984540054\n",
      "2.5758293035489004\n",
      "2.3263478740408408\n"
     ]
    }
   ],
   "source": [
    "# parametic test we need a distribution. In that case normal distribution\n",
    "# ppf = percent point function \n",
    "# stats.norm.ppf ppf of the standard normal distribution for probability (1-alpha)\n",
    "from scipy.stats import norm\n",
    "print(norm.ppf(0.975))#returns the z score\n",
    "# that is also the critical value that we compare our test statistic with\n",
    "print(norm.ppf(1-0.01/2))\n",
    "print(norm.ppf(1-0.01))"
   ]
  },
  {
   "cell_type": "code",
   "execution_count": 56,
   "metadata": {},
   "outputs": [
    {
     "name": "stdout",
     "output_type": "stream",
     "text": [
      "Cirtical Valuem(alpha?):  2.5758293035489004\n",
      "Test statistic z/t:  2.4956709924231077\n",
      "The test statistic z = 2.496 is not  larger than the critical value 2.576 so we fail to  reject the Null\n",
      "The p value  0.0062859573249297584 is less than alpha 0.01 so we reject the Null\n"
     ]
    }
   ],
   "source": [
    "%precision 3\n",
    "#Two sided test !!\n",
    "# We care about both sides since we do not know how the casino is \n",
    "# using the biased dice.\n",
    "a=0.01\n",
    "n=200\n",
    "\n",
    "# Compute critical value normal distribution for both sides \n",
    "critValue = norm.ppf(1-a/2)\n",
    "print('Cirtical Valuem(alpha?): ', critValue)\n",
    "\n",
    "# Compute the standard score\n",
    "z = np.abs((3.8-3.5)/(1.7/np.sqrt(n))) \n",
    "print('Test statistic z/t: ', z)\n",
    "\n",
    "if (z < critValue):\n",
    "    s = \"not\"\n",
    "    s2 = \"fail to\"\n",
    "else:\n",
    "    s = \"\"   \n",
    "    s2 = \"\"\n",
    "    \n",
    "print(\"The test statistic z =\", np.round(z,3), \"is\", s ,\" larger than the critical value\",np.round(critValue,3), \"so we\",s2,\" reject the Null\" ) \n",
    "#norm.cdf(1-a/2)\n",
    "\n",
    "#p-value is the right tail probability of values equal or larger than your test statistic\n",
    "pVal = 1-norm.cdf(z)\n",
    "print(\"The p value \", pVal, \"is less than alpha\", a, \"so we reject the Null\")"
   ]
  },
  {
   "cell_type": "code",
   "execution_count": 57,
   "metadata": {},
   "outputs": [
    {
     "name": "stdout",
     "output_type": "stream",
     "text": [
      "Cirtical Valuem(alpha?):  2.3263478740408408\n",
      "Test statistic z/t:  2.4956709924231077\n",
      "The test statistic z = 2.496 is   larger than the critical value 2.326 so we   reject the Null\n",
      "The p value  0.0062859573249297584 is less than alpha 0.01 so we reject the Null\n"
     ]
    }
   ],
   "source": [
    "#One sided test !!\n",
    "# We care only about one side since we do know that the casino makes \n",
    "# money off upward biased dice.\n",
    "critValue = norm.ppf(1-a)\n",
    "print('Cirtical Valuem(alpha?): ', critValue)\n",
    "      \n",
    "z = (3.8-3.5)/(1.7/np.sqrt(n))\n",
    "print('Test statistic z/t: ', z)\n",
    "    \n",
    "if (z < critValue):\n",
    "    s = \"not\"\n",
    "    s2 = \"fail to\"\n",
    "else:\n",
    "    s = \"\"   \n",
    "    s2 = \"\"\n",
    "    \n",
    "print(\"The test statistic z =\", np.round(z,3), \"is\", s ,\" larger than the critical value\",np.round(critValue,3), \"so we\",s2,\" reject the Null\" ) \n",
    "#norm.cdf(1-a\n",
    "\n",
    "\n",
    "#p-value is the right tail probability of values equal or larger than your test statistic\n",
    "pVal = 1-norm.cdf(z)\n",
    "print(\"The p value \", pVal, \"is less than alpha\", a, \"so we reject the Null\")"
   ]
  },
  {
   "cell_type": "markdown",
   "metadata": {},
   "source": [
    "# Non parametric Tests\n",
    "\n",
    "Parametric Tests require many assumptions, that may not always be true, and are also a bit abstract. It often helps (i) robustness and (ii) the understanding of the testing process to use simulations instead. \n",
    "We now learn about two different ways of such simulations, each following the basic \"pipeline\":\n",
    "\n",
    "1. Clearly define the Null hypothesis.\n",
    "2. Define the test statistic.\n",
    "3. Generate many sets of simulated data (bootstrap replicates) **assuming the null hypothesis is true**\n",
    "4. Compute the test statistic for each simulated data set\n",
    "5. The p-value is the fraction of your simulated data sets for which the test statistic is at least as extreme as for the real data\n"
   ]
  },
  {
   "cell_type": "markdown",
   "metadata": {},
   "source": [
    "#### Bootstrap Hypothesis Tests\n",
    "\n",
    "Besides computing confidence intervals we can also use the bootstrap to perform hypothesis test.\n",
    "We need to \"fake\" the process of drawing new samples again and again under the Null hypothesis, which might appear impossible since our one sample likely will have a sample mean not equal to $\\mu_0$.\n",
    "\n",
    "The trick is to \"shift\" our data such that $\\bar{x} = \\mu_0$!\n",
    "As a test statistic we use the difference of the mean of the bootstrap value minus $\\mu_0$. Notice that there is no need to scale this difference!\n",
    "\n",
    "We illustrate this with our casino example.\n",
    "\n"
   ]
  },
  {
   "cell_type": "code",
   "execution_count": null,
   "metadata": {},
   "outputs": [],
   "source": [
    "np.random.choice(6,20)+1"
   ]
  },
  {
   "cell_type": "code",
   "execution_count": 59,
   "metadata": {},
   "outputs": [
    {
     "name": "stdout",
     "output_type": "stream",
     "text": [
      "xbar 3.72\n",
      "The sample mean is 3.72 , so we shift our data by -0.22\n"
     ]
    }
   ],
   "source": [
    "a=0.01\n",
    "n=400\n",
    "np.random.seed(123)\n",
    "x = np.random.choice(6,n,p=[0.14,0.14,0.15,0.18,0.19,0.20])+1 #add a bias\n",
    "\n",
    "# mu 0\n",
    "mu0=3.5\n",
    "\n",
    "xBar = np.round(np.mean(x),2)\n",
    "print('xbar', xBar)\n",
    "\n",
    "obsDiff = np.round(mu0-xBar,2)\n",
    "print(\"The sample mean is\", xBar, \", so we shift our data by\", obsDiff)\n",
    "\n",
    "bs_mean_dice = draw_bs_reps(x+obsDiff,np.mean,10000)"
   ]
  },
  {
   "cell_type": "code",
   "execution_count": 60,
   "metadata": {},
   "outputs": [
    {
     "name": "stdout",
     "output_type": "stream",
     "text": [
      "The two sided p value of 0.0 is not smaller than alpha= 0.01 , so we fail to reject the Null\n"
     ]
    },
    {
     "data": {
      "text/plain": [
       "0.0002"
      ]
     },
     "execution_count": 60,
     "metadata": {},
     "output_type": "execute_result"
    },
    {
     "data": {
      "image/png": "[encoded data removed]",
      "text/plain": [
       "<Figure size 432x288 with 1 Axes>"
      ]
     },
     "metadata": {
      "needs_background": "light"
     },
     "output_type": "display_data"
    }
   ],
   "source": [
    "#Alternatively, if we had not shifted our data\n",
    "#TS = bs_mean_dice-xBar\n",
    "\n",
    "#The test statistic\n",
    "TS = bs_mean_dice-mu0\n",
    "plt.hist(TS)\n",
    "\n",
    "#two sided p value\n",
    "pVal = np.mean(abs(TS) > 0.3)\n",
    "print(\"The two sided p value of\", np.round(pVal,3), \"is not smaller than alpha=\",a,\", so we fail to reject the Null\" ) \n",
    "pVal"
   ]
  },
  {
   "cell_type": "markdown",
   "metadata": {},
   "source": [
    "**Tasks**\n",
    "- Test $H_0: \\mu \\geq 30, H_A: \\mu < 30$ for the mean mpg of 4-cylinder cars\n",
    "    * using bootstrap replicates\n",
    "    * via standard testing theory.\n",
    "- Compute the corresponding **p-values**."
   ]
  },
  {
   "cell_type": "code",
   "execution_count": null,
   "metadata": {
    "scrolled": true
   },
   "outputs": [],
   "source": [
    "%load InNotebookSolutions/class3_sol1.py\n",
    "\n"
   ]
  },
  {
   "cell_type": "markdown",
   "metadata": {},
   "source": [
    "---------------------------------------------\n",
    "\n",
    "### From one sample to 2 samples\n",
    "\n",
    "From Auto to birth weights"
   ]
  },
  {
   "cell_type": "code",
   "execution_count": 61,
   "metadata": {},
   "outputs": [
    {
     "name": "stdout",
     "output_type": "stream",
     "text": [
      "(3758, 2)\n"
     ]
    },
    {
     "name": "stderr",
     "output_type": "stream",
     "text": [
      "C:\\Users\\deniz\\anaconda3\\lib\\site-packages\\pandas\\core\\generic.py:6746: SettingWithCopyWarning: \n",
      "A value is trying to be set on a copy of a slice from a DataFrame\n",
      "\n",
      "See the caveats in the documentation: https://pandas.pydata.org/pandas-docs/stable/user_guide/indexing.html#returning-a-view-versus-a-copy\n",
      "  self._update_inplace(new_data)\n"
     ]
    },
    {
     "data": {
      "text/html": [
       "<div>\n",
       "<style scoped>\n",
       "    .dataframe tbody tr th:only-of-type {\n",
       "        vertical-align: middle;\n",
       "    }\n",
       "\n",
       "    .dataframe tbody tr th {\n",
       "        vertical-align: top;\n",
       "    }\n",
       "\n",
       "    .dataframe thead th {\n",
       "        text-align: right;\n",
       "    }\n",
       "</style>\n",
       "<table border=\"1\" class=\"dataframe\">\n",
       "  <thead>\n",
       "    <tr style=\"text-align: right;\">\n",
       "      <th></th>\n",
       "      <th>babysex</th>\n",
       "      <th>totalwgt_lb</th>\n",
       "    </tr>\n",
       "  </thead>\n",
       "  <tbody>\n",
       "    <tr>\n",
       "      <th>2</th>\n",
       "      <td>male</td>\n",
       "      <td>9.1250</td>\n",
       "    </tr>\n",
       "    <tr>\n",
       "      <th>5</th>\n",
       "      <td>male</td>\n",
       "      <td>8.5625</td>\n",
       "    </tr>\n",
       "    <tr>\n",
       "      <th>8</th>\n",
       "      <td>male</td>\n",
       "      <td>7.5625</td>\n",
       "    </tr>\n",
       "    <tr>\n",
       "      <th>10</th>\n",
       "      <td>male</td>\n",
       "      <td>7.8125</td>\n",
       "    </tr>\n",
       "    <tr>\n",
       "      <th>11</th>\n",
       "      <td>female</td>\n",
       "      <td>7.0000</td>\n",
       "    </tr>\n",
       "  </tbody>\n",
       "</table>\n",
       "</div>"
      ],
      "text/plain": [
       "   babysex  totalwgt_lb\n",
       "2     male       9.1250\n",
       "5     male       8.5625\n",
       "8     male       7.5625\n",
       "10    male       7.8125\n",
       "11  female       7.0000"
      ]
     },
     "execution_count": 61,
     "metadata": {},
     "output_type": "execute_result"
    }
   ],
   "source": [
    "preg=pd.read_hdf('data/pregNSFG.h5', 'df')\n",
    "\n",
    "#only look at live births\n",
    "firsts = preg[(preg.outcome == 1) & (preg.birthord == 1)]\n",
    "#live[live.babysex == 1].babysex = \"male\"\n",
    "\n",
    "#we reduce the sample size further by conditioning on \n",
    "#the mother's age at the end of pregnancy\n",
    "firsts = firsts[(firsts.agepreg < 30) & (firsts.prglngth >= 30)]\n",
    "bwt = firsts[[\"babysex\",\"totalwgt_lb\"]] \n",
    "\n",
    "bwt.babysex.replace([1.0],\"male\",inplace=True)\n",
    "bwt.babysex.replace([2.0],\"female\",inplace=True)\n",
    "bwt = bwt.dropna()\n",
    "print(bwt.shape)\n",
    "bwt.head()"
   ]
  },
  {
   "cell_type": "code",
   "execution_count": 62,
   "metadata": {},
   "outputs": [
    {
     "name": "stdout",
     "output_type": "stream",
     "text": [
      "babysex\n",
      "female    7.103830\n",
      "male      7.378682\n",
      "Name: totalwgt_lb, dtype: float64\n"
     ]
    },
    {
     "data": {
      "image/png": "[encoded data removed]",
      "text/plain": [
       "<Figure size 432x288 with 1 Axes>"
      ]
     },
     "metadata": {
      "needs_background": "light"
     },
     "output_type": "display_data"
    }
   ],
   "source": [
    "grouped = bwt[\"totalwgt_lb\"].groupby(bwt[\"babysex\"])\n",
    "print(grouped.mean())\n",
    "tmp=grouped.plot(kind='density', legend=True)"
   ]
  },
  {
   "cell_type": "markdown",
   "metadata": {},
   "source": [
    "### A two-sample bootstrap hypothesis test for difference of means\n",
    "\n",
    "A one sample test compares a data set to one fixed number !\n",
    "\n",
    "We now want to compare two sets of data, both of which are samples! In particular test the hypothesis that male and female babies have the same biological weight (but not necessarily the same distribution). \n",
    "\n",
    "$H_0: \\mu_m = \\mu_f, H_A: \\mu_m \\neq \\mu_f$\n",
    "\n",
    "To do the two-sample bootstrap test, we shift both arrays to have the same mean, since we are simulating the hypothesis that their means are, in fact, equal (**equal to what value ??**). We then draw bootstrap samples out of the shifted arrays and compute the difference in means. This constitutes a bootstrap replicate, and we generate many of them. The p-value is the fraction of replicates with a difference in means greater than or equal to what was observed."
   ]
  },
  {
   "cell_type": "code",
   "execution_count": 63,
   "metadata": {},
   "outputs": [
    {
     "data": {
      "image/png": "[encoded data removed]",
      "text/plain": [
       "<Figure size 432x288 with 1 Axes>"
      ]
     },
     "metadata": {
      "needs_background": "light"
     },
     "output_type": "display_data"
    }
   ],
   "source": [
    "meanNull = np.mean(bwt.totalwgt_lb)# pooled mean\n",
    "w_m = bwt[bwt[\"babysex\"]==\"male\"].totalwgt_lb\n",
    "w_f = bwt[bwt[\"babysex\"]==\"female\"].totalwgt_lb\n",
    "empirical_diff_means = np.mean(w_m)-np.mean(w_f) \n",
    "#shift:\n",
    "\n",
    "w_m_shifted = w_m - np.mean(w_m) + meanNull\n",
    "w_f_shifted = w_f - np.mean(w_f) + meanNull\n",
    "\n",
    "# Compute 10,000 bootstrap replicates from shifted arrays\n",
    "M=1000\n",
    "bs_replicates_m = draw_bs_reps(w_m_shifted, np.mean, M)\n",
    "bs_replicates_f = draw_bs_reps(w_f_shifted, np.mean, M)\n",
    "\n",
    "# Get replicates of difference of means: bs_replicates\n",
    "bs_replicates = bs_replicates_m - bs_replicates_f\n",
    "\n",
    "tmp=plt.hist(bs_replicates)\n",
    "# Compute and print p-value: p"
   ]
  },
  {
   "cell_type": "code",
   "execution_count": 64,
   "metadata": {},
   "outputs": [],
   "source": [
    "#debugging:\n",
    "if 0:\n",
    "    meanNull\n",
    "    #plt.hist(w_f_shifted)\n",
    "    #plt.hist(bs_replicates_m)\n",
    "    #bs_replicates_m\n",
    "    w_m_bs = np.random.choice(w_m, size=len(w_m))\n",
    "    np.nanmean(w_m_bs)\n",
    "    np.argwhere(np.isnan(w_m_bs))\n",
    "    np.argwhere(np.isnan(w_m))"
   ]
  },
  {
   "cell_type": "code",
   "execution_count": 65,
   "metadata": {},
   "outputs": [
    {
     "name": "stdout",
     "output_type": "stream",
     "text": [
      "The one sided p value of 0.0 is much smaller than alpha= 0.01 , so we fail to reject the Null\n",
      "-> The observed difference of  0.275 is exremely unlikely to have occurred by chance alone\n"
     ]
    }
   ],
   "source": [
    "\n",
    "#p-value (one-sided):\n",
    "pVal = np.mean(bs_replicates> empirical_diff_means)\n",
    "#cutoff right tail\n",
    "#np.percentile(bs_replicates, 95)\n",
    "print(\"The one sided p value of\", np.round(pVal,3), \"is much smaller than alpha=\",a,\", so we fail to reject the Null\" ) \n",
    "\n",
    "print(\"-> The observed difference of \", np.round(empirical_diff_means,3), \"is exremely unlikely to have occurred by chance alone\")\n"
   ]
  },
  {
   "cell_type": "markdown",
   "metadata": {},
   "source": [
    "------------------------------------\n",
    "### Tasks\n",
    "\n",
    "1. Test the hypothesis that the survival rates for female passengers in Pclass 1 was no larger than in Pclass 2.\n",
    "2. Create a boxplot `mpg ~ cylinders`. It does seem that the mpg for cars with 4 cylinders is quite different from those with 3 cylinders. What does a bootstrap test tell you about this hypothesis?\n",
    "3. Can you think of more interesting hypotheses to test regarding the pregnancy data ?"
   ]
  },
  {
   "cell_type": "code",
   "execution_count": null,
   "metadata": {},
   "outputs": [],
   "source": [
    "import seaborn as sns\n",
    "titanic = sns.load_dataset('titanic')"
   ]
  }
 ],
 "metadata": {
  "kernelspec": {
   "display_name": "Python 3",
   "language": "python",
   "name": "python3"
  },
  "language_info": {
   "codemirror_mode": {
    "name": "ipython",
    "version": 3
   },
   "file_extension": ".py",
   "mimetype": "text/x-python",
   "name": "python",
   "nbconvert_exporter": "python",
   "pygments_lexer": "ipython3",
   "version": "3.8.3"
  }
 },
 "nbformat": 4,
 "nbformat_minor": 4
}
