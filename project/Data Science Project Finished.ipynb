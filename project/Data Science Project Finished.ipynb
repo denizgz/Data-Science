{
 "cells": [
  {
   "cell_type": "markdown",
   "metadata": {},
   "source": [
    "# Content\n",
    "\n",
    "- **Goal of the Notebook**\n",
    "- Import Libraries\n",
    "- **Exploratory Data Analysis (EDA)**\n",
    "    - Target 'price'\n",
    "    - Features\n",
    "- **Missing Values**\n",
    "    - Bathroom\n",
    "    - Bedroom\n",
    "    - Building_id\n",
    "    - Description\n",
    "    - Feature\n",
    "- **Feature-Engineering**\n",
    "    - Created\n",
    "    - Discription \n",
    "    - Feature\n",
    "    - Latitude and Longitude\n",
    "    - Managers\n",
    "    - Images\n",
    "- **(Encoding)**\n",
    "- **Base model**\n",
    "    - Ridge\n",
    "    - Lasso\n",
    "    - ElasticNet\n",
    "    - RandomForest\n",
    "- **Hyperparamert Tuning**\n",
    "    - Ridge\n",
    "    - Lasso\n",
    "    - ElasticNet\n",
    "    - RandomForest\n",
    "- **Comparison**\n",
    "- **Conclusion**"
   ]
  },
  {
   "cell_type": "markdown",
   "metadata": {},
   "source": [
    "## Goal of the Notebook"
   ]
  },
  {
   "cell_type": "markdown",
   "metadata": {},
   "source": [
    "## Import the libraries"
   ]
  },
  {
   "cell_type": "code",
   "execution_count": 1,
   "metadata": {},
   "outputs": [],
   "source": [
    "import numpy as np\n",
    "import pandas as pd\n",
    "from sklearn.model_selection import train_test_split\n",
    "import json\n",
    "import matplotlib.pyplot as plt\n",
    "import seaborn as sns\n",
    "import matplotlib.style as style\n",
    "color = sns.color_palette()\n",
    "from scipy import stats\n",
    "import matplotlib.gridspec as gridspec\n",
    "import statsmodels.formula.api as smf\n",
    "import os\n",
    "from PIL import Image\n",
    "import pandas_profiling as pp\n",
    "\n",
    "from tqdm import tqdm, tqdm_notebook\n",
    "\n",
    "from geopy.extra.rate_limiter import RateLimiter\n",
    "\n",
    "#pip install geopy\n",
    "import geopy\n",
    "#from geopy.geocoders import Nominatim\n",
    "#from geopy.extra.rate_limiter import RateLimiter"
   ]
  },
  {
   "cell_type": "code",
   "execution_count": 2,
   "metadata": {},
   "outputs": [
    {
     "data": {
      "text/html": [
       "<div>\n",
       "<style scoped>\n",
       "    .dataframe tbody tr th:only-of-type {\n",
       "        vertical-align: middle;\n",
       "    }\n",
       "\n",
       "    .dataframe tbody tr th {\n",
       "        vertical-align: top;\n",
       "    }\n",
       "\n",
       "    .dataframe thead th {\n",
       "        text-align: right;\n",
       "    }\n",
       "</style>\n",
       "<table border=\"1\" class=\"dataframe\">\n",
       "  <thead>\n",
       "    <tr style=\"text-align: right;\">\n",
       "      <th></th>\n",
       "      <th>bathrooms</th>\n",
       "      <th>bedrooms</th>\n",
       "      <th>building_id</th>\n",
       "      <th>created</th>\n",
       "      <th>description</th>\n",
       "      <th>display_address</th>\n",
       "      <th>features</th>\n",
       "      <th>latitude</th>\n",
       "      <th>listing_id</th>\n",
       "      <th>longitude</th>\n",
       "      <th>manager_id</th>\n",
       "      <th>photos</th>\n",
       "      <th>price</th>\n",
       "      <th>street_address</th>\n",
       "      <th>interest_level</th>\n",
       "    </tr>\n",
       "  </thead>\n",
       "  <tbody>\n",
       "    <tr>\n",
       "      <th>34100</th>\n",
       "      <td>1.0</td>\n",
       "      <td>2</td>\n",
       "      <td>9b24b9d24d253837fa7ee86eb436530e</td>\n",
       "      <td>2016-06-10 02:21:59</td>\n",
       "      <td>NO FEE &amp; 1 MONTH FREE!!! Condo finishes large ...</td>\n",
       "      <td>West End Avenue</td>\n",
       "      <td>[Swimming Pool, Doorman, Elevator, Fitness Cen...</td>\n",
       "      <td>40.7957</td>\n",
       "      <td>7134136</td>\n",
       "      <td>-73.9727</td>\n",
       "      <td>e0af09eba42a9af0626d15c8d9505043</td>\n",
       "      <td>[https://photos.renthop.com/2/7134136_2d8df5c3...</td>\n",
       "      <td>4890</td>\n",
       "      <td>752 West End Avenue</td>\n",
       "      <td>low</td>\n",
       "    </tr>\n",
       "    <tr>\n",
       "      <th>45041</th>\n",
       "      <td>2.0</td>\n",
       "      <td>2</td>\n",
       "      <td>1e68ab3dd372d796501b117ddf197985</td>\n",
       "      <td>2016-05-14 05:26:27</td>\n",
       "      <td></td>\n",
       "      <td>East 1st Street</td>\n",
       "      <td>[Cats Allowed, Dogs Allowed]</td>\n",
       "      <td>40.7238</td>\n",
       "      <td>7013391</td>\n",
       "      <td>-73.9898</td>\n",
       "      <td>8f5a9c893f6d602f4953fcc0b8e6e9b4</td>\n",
       "      <td>[]</td>\n",
       "      <td>4195</td>\n",
       "      <td>47 East 1st Street</td>\n",
       "      <td>low</td>\n",
       "    </tr>\n",
       "    <tr>\n",
       "      <th>94327</th>\n",
       "      <td>1.0</td>\n",
       "      <td>0</td>\n",
       "      <td>83ec3cf6c56a458b9f0cc455fee2d000</td>\n",
       "      <td>2016-04-09 03:21:05</td>\n",
       "      <td>In the heart of one of Manhattan's hottest nei...</td>\n",
       "      <td>West 14th Street</td>\n",
       "      <td>[Laundry in Building, Laundry in Unit, Dishwas...</td>\n",
       "      <td>40.7399</td>\n",
       "      <td>6848107</td>\n",
       "      <td>-74.0036</td>\n",
       "      <td>277517a143b394a4f404c2e3e34c12ea</td>\n",
       "      <td>[https://photos.renthop.com/2/6848107_a308df32...</td>\n",
       "      <td>2549</td>\n",
       "      <td>316 West 14th Street</td>\n",
       "      <td>low</td>\n",
       "    </tr>\n",
       "    <tr>\n",
       "      <th>114382</th>\n",
       "      <td>1.0</td>\n",
       "      <td>0</td>\n",
       "      <td>e1aa5420ac02e7926ce0dc1e921b12fe</td>\n",
       "      <td>2016-04-02 01:39:01</td>\n",
       "      <td></td>\n",
       "      <td>West 83rd Street</td>\n",
       "      <td>[Furnished]</td>\n",
       "      <td>40.7844</td>\n",
       "      <td>6812685</td>\n",
       "      <td>-73.9728</td>\n",
       "      <td>62b685cc0d876c3a1a51d63a0d6a8082</td>\n",
       "      <td>[]</td>\n",
       "      <td>2995</td>\n",
       "      <td>67 West 83rd Street</td>\n",
       "      <td>low</td>\n",
       "    </tr>\n",
       "    <tr>\n",
       "      <th>88517</th>\n",
       "      <td>2.0</td>\n",
       "      <td>3</td>\n",
       "      <td>0</td>\n",
       "      <td>2016-04-27 06:42:14</td>\n",
       "      <td>Apartment Features:*Exposed brick*Balcony*Quee...</td>\n",
       "      <td>E 6th St.</td>\n",
       "      <td>[Balcony, Laundry in Unit, Dishwasher, Hardwoo...</td>\n",
       "      <td>40.7266</td>\n",
       "      <td>6933446</td>\n",
       "      <td>-73.9872</td>\n",
       "      <td>1067e078446a7897d2da493d2f741316</td>\n",
       "      <td>[https://photos.renthop.com/2/6933446_096c08eb...</td>\n",
       "      <td>6250</td>\n",
       "      <td>330 E 6th St.</td>\n",
       "      <td>low</td>\n",
       "    </tr>\n",
       "  </tbody>\n",
       "</table>\n",
       "</div>"
      ],
      "text/plain": [
       "        bathrooms  bedrooms                       building_id  \\\n",
       "34100         1.0         2  9b24b9d24d253837fa7ee86eb436530e   \n",
       "45041         2.0         2  1e68ab3dd372d796501b117ddf197985   \n",
       "94327         1.0         0  83ec3cf6c56a458b9f0cc455fee2d000   \n",
       "114382        1.0         0  e1aa5420ac02e7926ce0dc1e921b12fe   \n",
       "88517         2.0         3                                 0   \n",
       "\n",
       "                    created  \\\n",
       "34100   2016-06-10 02:21:59   \n",
       "45041   2016-05-14 05:26:27   \n",
       "94327   2016-04-09 03:21:05   \n",
       "114382  2016-04-02 01:39:01   \n",
       "88517   2016-04-27 06:42:14   \n",
       "\n",
       "                                              description   display_address  \\\n",
       "34100   NO FEE & 1 MONTH FREE!!! Condo finishes large ...   West End Avenue   \n",
       "45041                                                       East 1st Street   \n",
       "94327   In the heart of one of Manhattan's hottest nei...  West 14th Street   \n",
       "114382                                                     West 83rd Street   \n",
       "88517   Apartment Features:*Exposed brick*Balcony*Quee...         E 6th St.   \n",
       "\n",
       "                                                 features  latitude  \\\n",
       "34100   [Swimming Pool, Doorman, Elevator, Fitness Cen...   40.7957   \n",
       "45041                        [Cats Allowed, Dogs Allowed]   40.7238   \n",
       "94327   [Laundry in Building, Laundry in Unit, Dishwas...   40.7399   \n",
       "114382                                        [Furnished]   40.7844   \n",
       "88517   [Balcony, Laundry in Unit, Dishwasher, Hardwoo...   40.7266   \n",
       "\n",
       "        listing_id  longitude                        manager_id  \\\n",
       "34100      7134136   -73.9727  e0af09eba42a9af0626d15c8d9505043   \n",
       "45041      7013391   -73.9898  8f5a9c893f6d602f4953fcc0b8e6e9b4   \n",
       "94327      6848107   -74.0036  277517a143b394a4f404c2e3e34c12ea   \n",
       "114382     6812685   -73.9728  62b685cc0d876c3a1a51d63a0d6a8082   \n",
       "88517      6933446   -73.9872  1067e078446a7897d2da493d2f741316   \n",
       "\n",
       "                                                   photos  price  \\\n",
       "34100   [https://photos.renthop.com/2/7134136_2d8df5c3...   4890   \n",
       "45041                                                  []   4195   \n",
       "94327   [https://photos.renthop.com/2/6848107_a308df32...   2549   \n",
       "114382                                                 []   2995   \n",
       "88517   [https://photos.renthop.com/2/6933446_096c08eb...   6250   \n",
       "\n",
       "              street_address interest_level  \n",
       "34100    752 West End Avenue            low  \n",
       "45041     47 East 1st Street            low  \n",
       "94327   316 West 14th Street            low  \n",
       "114382   67 West 83rd Street            low  \n",
       "88517          330 E 6th St.            low  "
      ]
     },
     "execution_count": 2,
     "metadata": {},
     "output_type": "execute_result"
    }
   ],
   "source": [
    "df = pd.read_json('data/train.json')\n",
    "np.random.seed(123)\n",
    "df = df.sample(frac=1) # shuffle data\n",
    "\n",
    "df_dev, df_test = train_test_split(df, test_size=0.15)\n",
    "df_train, df_valid = train_test_split(df_dev, test_size=0.15)\n",
    "df.head()"
   ]
  },
  {
   "cell_type": "markdown",
   "metadata": {},
   "source": [
    "## Exploratory Data Analysis\n",
    "First we need to assess the number of NA values in the test, train and the validation data sets"
   ]
  },
  {
   "cell_type": "code",
   "execution_count": 3,
   "metadata": {},
   "outputs": [
    {
     "name": "stdout",
     "output_type": "stream",
     "text": [
      "interest_level     0\n",
      "street_address     0\n",
      "price              0\n",
      "photos             0\n",
      "manager_id         0\n",
      "longitude          0\n",
      "listing_id         0\n",
      "latitude           0\n",
      "features           0\n",
      "display_address    0\n",
      "description        0\n",
      "created            0\n",
      "building_id        0\n",
      "bedrooms           0\n",
      "bathrooms          0\n",
      "dtype: int64\n"
     ]
    }
   ],
   "source": [
    "# show features with count of NaN values\n",
    "s = df.isnull().sum()\n",
    "s = s.sort_values(ascending=False)\n",
    "print(s)"
   ]
  },
  {
   "cell_type": "markdown",
   "metadata": {},
   "source": [
    "We don't need to handle missing values cases since all the columns and the three data sets don't have any missing values.\n",
    "Let's explore the unique values per column"
   ]
  },
  {
   "cell_type": "code",
   "execution_count": 4,
   "metadata": {},
   "outputs": [
    {
     "name": "stdout",
     "output_type": "stream",
     "text": [
      "bathrooms :  15\n",
      "bedrooms :  9\n",
      "building_id :  7585\n",
      "created :  48675\n",
      "description :  38244\n",
      "display_address :  8826\n",
      "latitude :  2335\n",
      "listing_id :  49352\n",
      "longitude :  1677\n",
      "manager_id :  3481\n",
      "price :  2808\n",
      "street_address :  15358\n",
      "interest_level :  3\n"
     ]
    }
   ],
   "source": [
    "for col in df.columns:\n",
    "    try:\n",
    "        print(col, ': ' ,df[col].nunique())\n",
    "    except:\n",
    "        pass"
   ]
  },
  {
   "cell_type": "code",
   "execution_count": 5,
   "metadata": {},
   "outputs": [
    {
     "data": {
      "text/plain": [
       "Text(0, 0.5, 'count')"
      ]
     },
     "execution_count": 5,
     "metadata": {},
     "output_type": "execute_result"
    },
    {
     "data": {
      "image/png": "[encoded data removed]",
      "text/plain": [
       "<Figure size 1872x1008 with 3 Axes>"
      ]
     },
     "metadata": {
      "needs_background": "light"
     },
     "output_type": "display_data"
    }
   ],
   "source": [
    "#create some histograms on the numeric features and interest level\n",
    "\n",
    "np.warnings.filterwarnings('ignore')\n",
    "\n",
    "plt.figure(figsize=(26,14))\n",
    "plt.subplot(2,2,1)\n",
    "plt.hist(df[\"bathrooms\"])\n",
    "plt.xlabel(\"number of bathrooms\")\n",
    "plt.ylabel(\"count\")\n",
    "\n",
    "plt.subplot(2,2,2)\n",
    "plt.hist(df[\"bedrooms\"])\n",
    "plt.xlabel(\"number of bedrooms\")\n",
    "plt.ylabel(\"count\")\n",
    "\n",
    "plt.subplot(2,2,3)\n",
    "interestcount=df[\"interest_level\"].value_counts()\n",
    "#plt.figure(figsize=(8,4))\n",
    "sns.barplot(interestcount.index, interestcount.values)\n",
    "plt.xlabel(\"interest level\")\n",
    "plt.ylabel(\"count\")\n",
    "\n",
    "\n",
    "#plt.subplot(2,2,4)\n",
    "#plt.hist(df[\"photo_count\"])\n",
    "#plt.xlabel(\"number of photos\")\n",
    "#plt.ylabel(\"count\")"
   ]
  },
  {
   "cell_type": "code",
   "execution_count": 6,
   "metadata": {},
   "outputs": [
    {
     "name": "stdout",
     "output_type": "stream",
     "text": [
      "max price: 4490000\n",
      "mean price: 3830.174035500081\n",
      "median price: 3150.0\n",
      "lower quartile of price: 2500.0\n",
      "upper quartile of price: 4100.0\n",
      "IQR of price: 1600.0\n",
      "the upper whisker of price ranges up to: 6500.0\n"
     ]
    }
   ],
   "source": [
    "#How is price distributed?\n",
    "\n",
    "print(\"max price: \" + str(df[\"price\"].max()))\n",
    "print(\"mean price: \" + str(df[\"price\"].mean()))\n",
    "print(\"median price: \" + str(df[\"price\"].median()))\n",
    "print(\"lower quartile of price: \" + str(df[\"price\"].quantile(0.25)))\n",
    "print(\"upper quartile of price: \" + str(df[\"price\"].quantile(0.75)))\n",
    "iqr=df[\"price\"].quantile(0.75)-df[\"price\"].quantile(0.25)\n",
    "print(\"IQR of price: \" + str(iqr))\n",
    "upper_whisker=df[\"price\"].quantile(0.75)+1.5*iqr\n",
    "print(\"the upper whisker of price ranges up to: \" + str(upper_whisker))\n",
    "#we see that the maximum price is very high and looking at mean and median value it is clearly an outlier. \n",
    "#So we will not plot the complete range of price but rather to the double range of the upper whisker (12000)"
   ]
  },
  {
   "cell_type": "code",
   "execution_count": 7,
   "metadata": {},
   "outputs": [
    {
     "data": {
      "text/plain": [
       "(-1000.0, 12000.0)"
      ]
     },
     "execution_count": 7,
     "metadata": {},
     "output_type": "execute_result"
    },
    {
     "data": {
      "image/png": "[encoded data removed]",
      "text/plain": [
       "<Figure size 720x216 with 1 Axes>"
      ]
     },
     "metadata": {
      "needs_background": "light"
     },
     "output_type": "display_data"
    }
   ],
   "source": [
    "#boxplot on the distribution of our target variable 'price'\n",
    "plt.figure(figsize=(10,3))\n",
    "sns.boxplot(x=\"price\",data=df)\n",
    "plt.title(\"distribution of price\")\n",
    "plt.xlim(-1000,12000)"
   ]
  },
  {
   "cell_type": "code",
   "execution_count": 8,
   "metadata": {},
   "outputs": [
    {
     "data": {
      "text/plain": [
       "(-1000.0, 12000.0)"
      ]
     },
     "execution_count": 8,
     "metadata": {},
     "output_type": "execute_result"
    },
    {
     "data": {
      "image/png": "[encoded data removed]",
      "text/plain": [
       "<Figure size 720x432 with 1 Axes>"
      ]
     },
     "metadata": {
      "needs_background": "light"
     },
     "output_type": "display_data"
    }
   ],
   "source": [
    "plt.figure(figsize=(10,6))\n",
    "sns.boxplot(x=\"price\", y=\"interest_level\",data=df)\n",
    "plt.title(\"distribution of price per interest level\")\n",
    "plt.xlim(-1000,12000)\n",
    "#we see that the mean price of low interest objects is higher, and for high interest objects the median price is lower"
   ]
  },
  {
   "cell_type": "code",
   "execution_count": 9,
   "metadata": {},
   "outputs": [],
   "source": [
    "# Create a function to understand target 'price' even better\n",
    "def plot_3_graph(df, feature):\n",
    "    '''Create three (histogram, probability and box plot) graphs to analyze target (price).\n",
    "    requirements: Importing seaborn, matplotlab and scipy modules'''\n",
    "\n",
    "    # Set style\n",
    "    style.use('fivethirtyeight')\n",
    "\n",
    "    # Creating a customized chart and giving in figsize \n",
    "    fig = plt.figure(constrained_layout=True, figsize=(10,5))\n",
    "    \n",
    "    # creating a grid of 3 cols and 3 rows\n",
    "    grid = gridspec.GridSpec(ncols=3, nrows=3, figure=fig)\n",
    "    \n",
    "    # Customizing the histogram grid \n",
    "    ax1 = fig.add_subplot(grid[0, :2])\n",
    "    # Set the title. \n",
    "    ax1.set_title('Histogram')\n",
    "    # plot the histogram. \n",
    "    sns.distplot(df.loc[:,feature], norm_hist=True, ax = ax1)\n",
    "\n",
    "    # customizing the QQ_plot \n",
    "    ax2 = fig.add_subplot(grid[1, :2])\n",
    "    # Set the title\n",
    "    ax2.set_title('QQ_plot')\n",
    "    # Plotting the QQ_Plot\n",
    "    stats.probplot(df.loc[:,feature], plot = ax2)\n",
    "\n",
    "    # Customizing the Box Plot \n",
    "    ax3 = fig.add_subplot(grid[:, 2])\n",
    "    # Set title\n",
    "    ax3.set_title('Box Plot')\n",
    "    # Plotting the box plot\n",
    "    sns.boxplot(df.loc[:,feature], orient='v', ax = ax3 );"
   ]
  },
  {
   "cell_type": "code",
   "execution_count": 10,
   "metadata": {},
   "outputs": [],
   "source": [
    "def plot_3_graph_log(df, feature):\n",
    "    '''Create three (histogram, probability and box plot) graphs to analyze target (price). \n",
    "    Do we get closer to the normal distribution with log?\n",
    "    requirements: Importing seaborn, matplotlab and scipy modules'''\n",
    "\n",
    "    # Set style\n",
    "    #style.use('fivethirtyeight')\n",
    "\n",
    "    # Creating a customized chart. and giving in figsize \n",
    "    fig = plt.figure(constrained_layout=True, figsize=(10,5))\n",
    "    \n",
    "    # creating a grid of 3 cols and 3 rows. \n",
    "    grid = gridspec.GridSpec(ncols=3, nrows=3, figure=fig)\n",
    "    \n",
    "    # Customizing the histogram grid. \n",
    "    ax1 = fig.add_subplot(grid[0, :2])\n",
    "    # Set the title. \n",
    "    ax1.set_title('Histogram')\n",
    "    # plot the histogram. \n",
    "    sns.distplot(np.log(df.loc[:,feature]), norm_hist=True, ax = ax1)\n",
    "\n",
    "    # customizing the QQ_plot. \n",
    "    ax2 = fig.add_subplot(grid[1, :2])\n",
    "    # Set the title. \n",
    "    ax2.set_title('QQ_plot')\n",
    "    # Plotting the QQ_Plot. \n",
    "    stats.probplot(np.log(df.loc[:,feature]), plot = ax2)\n",
    "\n",
    "    # Customizing the Box Plot. \n",
    "    ax3 = fig.add_subplot(grid[:, 2])\n",
    "    # Set title. \n",
    "    ax3.set_title('Box Plot')\n",
    "    # Plotting the box plot. \n",
    "    sns.boxplot(np.log(df.loc[:,feature]), orient='v', ax = ax3);"
   ]
  },
  {
   "cell_type": "code",
   "execution_count": 11,
   "metadata": {},
   "outputs": [
    {
     "name": "stdout",
     "output_type": "stream",
     "text": [
      "max value: 4490000 mean value: 3830.174035500081 median value: 3150.0 min value: 43\n",
      "53144          43\n",
      "87511          45\n",
      "117339        401\n",
      "113552        695\n",
      "85617         695\n",
      "           ...   \n",
      "123877     135000\n",
      "57803     1070000\n",
      "55437     1070000\n",
      "12168     1150000\n",
      "32611     4490000\n",
      "Name: price, Length: 49352, dtype: int64\n"
     ]
    }
   ],
   "source": [
    "# Get median, mean and max of price and sort price\n",
    "print('max value:', df['price'].max(), 'mean value:',  df['price'].mean(),  'median value:', df['price'].median(),'min value:', df['price'].min())\n",
    "print(df[\"price\"].sort_values())"
   ]
  },
  {
   "cell_type": "code",
   "execution_count": 12,
   "metadata": {},
   "outputs": [],
   "source": [
    "# Be aware run this cell could takes long \n",
    "# pp.ProfileReport(df)"
   ]
  },
  {
   "cell_type": "code",
   "execution_count": 13,
   "metadata": {},
   "outputs": [],
   "source": [
    "df['log price'] = (df['price']+1).transform(np.log)"
   ]
  },
  {
   "cell_type": "code",
   "execution_count": 14,
   "metadata": {},
   "outputs": [
    {
     "data": {
      "image/png": "[encoded data removed]",
      "text/plain": [
       "<Figure size 720x360 with 3 Axes>"
      ]
     },
     "metadata": {},
     "output_type": "display_data"
    }
   ],
   "source": [
    "# Plot histogram, probability plot and box plot\n",
    "plot_3_graph(df, 'price')"
   ]
  },
  {
   "cell_type": "code",
   "execution_count": 15,
   "metadata": {},
   "outputs": [
    {
     "data": {
      "text/plain": [
       "(49346, 16)"
      ]
     },
     "execution_count": 15,
     "metadata": {},
     "output_type": "execute_result"
    }
   ],
   "source": [
    "# Can we get closer to the normal distribution and get rid of outliers?\n",
    "df = df[(df[\"price\"] >= 100)]\n",
    "df = df[(df[\"price\"] <= 150_000)]\n",
    "df.shape"
   ]
  },
  {
   "cell_type": "code",
   "execution_count": 16,
   "metadata": {},
   "outputs": [
    {
     "data": {
      "image/png": "[encoded data removed]",
      "text/plain": [
       "<Figure size 720x360 with 3 Axes>"
      ]
     },
     "metadata": {},
     "output_type": "display_data"
    }
   ],
   "source": [
    "# Plot histogram, probability plot and box plot\n",
    "plot_3_graph(df, 'price')"
   ]
  },
  {
   "cell_type": "code",
   "execution_count": null,
   "metadata": {},
   "outputs": [],
   "source": [
    "# Plot histogram, probability plot and box plot\n",
    "plot_3_graph_log(df, 'price')"
   ]
  },
  {
   "cell_type": "markdown",
   "metadata": {},
   "source": [
    "## Missing Values\n",
    "Let's identify values that are missing and create a strategy to use those rows!"
   ]
  },
  {
   "cell_type": "markdown",
   "metadata": {},
   "source": [
    "### 'Bathroom' Column"
   ]
  },
  {
   "cell_type": "code",
   "execution_count": 27,
   "metadata": {},
   "outputs": [
    {
     "name": "stdout",
     "output_type": "stream",
     "text": [
      "1.0 1.2121798508672395 0    1.0\n",
      "dtype: float64\n"
     ]
    }
   ],
   "source": [
    "# Get value counts of bathrooms\n",
    "df.bathrooms.value_counts()\n",
    "\n",
    "# some more statistics \n",
    "print(df.bathrooms.median(),df.bathrooms.mean(), df.bathrooms.mode())"
   ]
  },
  {
   "cell_type": "code",
   "execution_count": 28,
   "metadata": {},
   "outputs": [
    {
     "data": {
      "text/plain": [
       "34100     1.0\n",
       "45041     2.0\n",
       "94327     1.0\n",
       "114382    1.0\n",
       "88517     2.0\n",
       "         ... \n",
       "19664     1.0\n",
       "38657     2.0\n",
       "44635     1.0\n",
       "70524     2.0\n",
       "39514     1.0\n",
       "Name: bathrooms, Length: 49352, dtype: float64"
      ]
     },
     "execution_count": 28,
     "metadata": {},
     "output_type": "execute_result"
    }
   ],
   "source": [
    "# Let's replace the 0 (9475) with 1. Median is robuster than mean\n",
    "df.bathrooms.replace(0, df.bathrooms.median())"
   ]
  },
  {
   "cell_type": "markdown",
   "metadata": {},
   "source": [
    "### 'Bedroom' Column"
   ]
  },
  {
   "cell_type": "code",
   "execution_count": 29,
   "metadata": {},
   "outputs": [
    {
     "name": "stdout",
     "output_type": "stream",
     "text": [
      "1.0 1.5416396498622142 0    1\n",
      "dtype: int64\n"
     ]
    }
   ],
   "source": [
    "# Get value counts of bedrooms\n",
    "df.bedrooms.value_counts()\n",
    "\n",
    "# some more statistics \n",
    "print(df.bedrooms.median(),df.bedrooms.mean(), df.bedrooms.mode())"
   ]
  },
  {
   "cell_type": "code",
   "execution_count": 30,
   "metadata": {},
   "outputs": [
    {
     "data": {
      "text/plain": [
       "34100     2\n",
       "45041     2\n",
       "94327     1\n",
       "114382    1\n",
       "88517     3\n",
       "         ..\n",
       "19664     1\n",
       "38657     2\n",
       "44635     1\n",
       "70524     2\n",
       "39514     1\n",
       "Name: bedrooms, Length: 49352, dtype: int64"
      ]
     },
     "execution_count": 30,
     "metadata": {},
     "output_type": "execute_result"
    }
   ],
   "source": [
    "# Let's replace the 0 (313) with 1. Median is robuster than mean\n",
    "df.bedrooms.replace(0, df.bedrooms.median())"
   ]
  },
  {
   "cell_type": "markdown",
   "metadata": {},
   "source": [
    "### 'Building_id' Column"
   ]
  },
  {
   "cell_type": "code",
   "execution_count": 31,
   "metadata": {},
   "outputs": [
    {
     "data": {
      "text/plain": [
       "0                                   8286\n",
       "96274288c84ddd7d5c5d8e425ee75027     275\n",
       "11e1dec9d14b1a9e528386a2504b3afc     215\n",
       "80a120d6bc3aba97f40fee8c2204524b     213\n",
       "bb8658a3e432fb62a440615333376345     212\n",
       "                                    ... \n",
       "65236f52215952560b82accddace8e55       1\n",
       "347aaf4b6dcd72dca474cb160837842c       1\n",
       "63ee736f378c83cad8de2002a0079790       1\n",
       "5dfaf6907054221ad63d364271b8fa19       1\n",
       "95d288ceb9603c691ea001910dba892a       1\n",
       "Name: building_id, Length: 7585, dtype: int64"
      ]
     },
     "execution_count": 31,
     "metadata": {},
     "output_type": "execute_result"
    }
   ],
   "source": [
    "# Get value counts for data['log+1'] = (data['value']+1).transform(np.log)features (8286 0)\n",
    "df.building_id.value_counts()"
   ]
  },
  {
   "cell_type": "markdown",
   "metadata": {},
   "source": [
    "### 'Features' Column"
   ]
  },
  {
   "cell_type": "code",
   "execution_count": 32,
   "metadata": {},
   "outputs": [
    {
     "data": {
      "text/plain": [
       "[]                                                                                                                3218\n",
       "[Pre-War, Dogs Allowed, Cats Allowed]                                                                             1400\n",
       "[Cats Allowed, Dogs Allowed]                                                                                      1080\n",
       "[Hardwood Floors]                                                                                                 1050\n",
       "[Pre-War]                                                                                                          937\n",
       "                                                                                                                  ... \n",
       "[Hardwood Floors, High Ceiling, Light]                                                                               1\n",
       "[Loft, Laundry in Unit, Hardwood Floors, Cats Allowed, Dogs Allowed, Multi-Level, Dishwasher]                        1\n",
       "[** EXQUISITE RIVERSIDE SPECIAL! * STUNNING STUDIO DUPLEX * FIREPLACE * GUT RENOVATED * STEPS TO THE PARK! **]       1\n",
       "[Doorman, Elevator, Fitness Center, Full-time doorman, Gym/Fitness, Cats Allowed, Dogs Allowed]                      1\n",
       "[Cats Allowed, Dogs Allowed, Elevator, Garage]                                                                       1\n",
       "Name: features, Length: 10254, dtype: int64"
      ]
     },
     "execution_count": 32,
     "metadata": {},
     "output_type": "execute_result"
    }
   ],
   "source": [
    "# Get value counts for features (3218[])\n",
    "df.features.value_counts()"
   ]
  },
  {
   "cell_type": "markdown",
   "metadata": {},
   "source": [
    "### 'Description' Column"
   ]
  },
  {
   "cell_type": "code",
   "execution_count": 33,
   "metadata": {},
   "outputs": [
    {
     "data": {
      "text/plain": [
       "                                                                                                                                                                                                                                                                                                                                                                                                                                                                                                                                                                                                                                                                                                                                                                                                                                                                                                                                                                                                                                                                                                                1647\n",
       "                                                                                                                                                                                                                                                                                                                                                                                                                                                                                                                                                                                                                                                                                                                                                                                                                                                                                                                                                                                                                                                                                                                1446\n",
       "<p><a  website_redacted                                                                                                                                                                                                                                                                                                                                                                                                                                                                                                                                                                                                                                                                                                                                                                                                                                                                                                                                                                                                                                                                                          333\n",
       "                                                                                                                                                                                                                                                                                                                                                                                                                                                                                                                                                                                                                                                                                                                                                                                                                                                                                                                                                                                                                                                                                                                 239\n",
       "A detailed description is coming soon. Please contact your Highline Residential agent with any questions.                                                                                                                                                                                                                                                                                                                                                                                                                                                                                                                                                                                                                                                                                                                                                                                                                                                                                                                                                                                                        123\n",
       "                                                                                                                                                                                                                                                                                                                                                                                                                                                                                                                                                                                                                                                                                                                                                                                                                                                                                                                                                                                                                                                                                                                ... \n",
       "In awesome part of Queens neighboring Astoria and less than 15 minutes away from Manhattan, Sunnyside is a complete gem. A block off of this building is Queens blvd where several essential neighborhood amenities are accessible in just a short walks distance including multiple; bars, restaurants, pharmacies, grocery stores, and retail locations. The pre-war which houses this unit is an intercom elevator building with easy street parking out front. The apartment features; refinished hardwood floors, a spacious living area, separate kitchen, three queen size fitting bedrooms. and a recently updated bathroom. At this price and location this apartment will rent quickly, contact us to schedule a viewing.                                                                                                                                                                                                                                                                                                                                                                                1\n",
       "This is an incredible under market value one bedroomwith an extra room for home office, nursery or a massive walk-incloset!! <br><br>A very bright one bedroom home with awindowed kitchen offering great counter and cabinet space. You'llenjoy the large living area and its very easy to layout forentertaining. You'll enjoy windows everywhere allowing in aabundance of natural light, great closet space and generalspace.<br><br><br><br><br><br><br>KW149362                                                                                                                                                                                                                                                                                                                                                                                                                                                                                                                                                                                                                                              1\n",
       "One BHK apartment is on rent from 20th April, 2016. Long term\\r\\rExcellent location : Right in front of Quincy Center Station.. 2 mins walk to subway , buses, grocery , market..\\rRent includes all utilities ie Heat, Hot Water, Electricity\\r\\rVery walk-able distance to library, gym, Star market , Restaurants, Hospital, etc\\r\\rOn site Laundry..\\rParking space..\\rAir conditioner..\\rFully equipped kitchen with Gas stove, Refrigerator , Oven..\\rLarge balcony..\\r\\rFor further inquiries, please call show contact info . Ask for Paul or Michael..\\r\\rHeritage Associates Reality\\r176 Presidents Lane \\rQuincy ,MA \\r02169                                                                                                                                                                                                                                                                                                                                                                                                                                                                           1\n",
       "Prime luxury living in the heart of Chelsea.  Pristine apartment with gourmet kitchen and marble bathroom.  Building features include:  Party Room where you can socialize in a stunning lounge featuring lots of natural light, a large screen TV, open kitchen and sofas, tables and chairs for dining, conversation and games;  Business Center that is fully furnished and wired conference room, large enough to comfortably seat eight people, available for residents' use;  Fitness Center designed to seamlessly integrate fitness, relaxation and wellness into your daily life, our on-premises state-of-the-art health and fitness center includes cardio and strength equipment;  Valet Dry Cleaning;  Technology Concierge; Parking Garage;  Bike Storage;  Rooftop Sun Terrace; BBQ Grills.Pet-friendly, smoke-free building.<br><p><img src= \" website_redacted width=\"1\" height=\"1\" /><ul><li><a target=_blank href= website_redacted Nickolai Parker for more information</a> </li><li><a target=_blank href= website_redacted full listing information on elliman.com</a> </li></ul></p>        1\n",
       "LOCATED IN THE HEART OF THE UPPER EAST SIDE, ONE OF THE NICEST, MOST DESIRED NEIGHBORHOODS THE CITY HAS TO OFFER. SURROUNDED BY SHOPS, RESTAURANTS, BARS, NIGHT LIFE, AND ALL FORMS OF TRANSPORTATION. WHY LIVE ANYWHERE ELSE?<br /><br />***NOTHING COMPARABLE ON THE MARKET***HUGE, BRAND NEW TRUE FIVE BEDROOM DUPLEX***FOUR FULL BATHROOMS***HUGE PRIVATE ROOF DECK***GREAT NATURAL LIGHT***BEAUTIFULLY FINISHED WITH CONDO FINISHES, AN OPEN ISLAND STYLE KITCHEN AND EXPOSED BRICK PERFECT FOR ENTERTAINING***WASHER DRYER IN ACTUAL APARTMENT***WILL GET RENTED VERY QUICKLY***GRAB THIS GEM TODAY BEFORE SOMEONE ELSE DOES***<br /><br />FOR A PRIVATE SHOWING OF THIS AND ALL OTHER AVAILABILITY ***TEXT OR CALL NIKKI (491-561-5182, OR E-MAIL kagglemanager@renthop.com***<br /><br /><p><a  website_redacted                                                                                                                                                                                                                                                                                           1\n",
       "Name: description, Length: 38244, dtype: int64"
      ]
     },
     "execution_count": 33,
     "metadata": {},
     "output_type": "execute_result"
    }
   ],
   "source": [
    "# Get value counts for Desription (1647[])\n",
    "df.description.value_counts()"
   ]
  },
  {
   "cell_type": "markdown",
   "metadata": {},
   "source": [
    "## Feature-Engineering\n",
    "Feature engineering is the process of transforming raw data into features that better represent the underlying problem to the predictive models, resulting in improved model accuracy on unseen data"
   ]
  },
  {
   "cell_type": "markdown",
   "metadata": {},
   "source": [
    "### 'Created' Column \n",
    "\n",
    "Let's try to split the 'created' column into year, month and day to change the creation date into a useable categorical factor."
   ]
  },
  {
   "cell_type": "code",
   "execution_count": 34,
   "metadata": {},
   "outputs": [],
   "source": [
    "df['listing_year']  = pd.DatetimeIndex(df['created']).year\n",
    "df['listing_month'] = pd.DatetimeIndex(df['created']).month\n",
    "df['listing_day/month']   = pd.DatetimeIndex(df['created']).day"
   ]
  },
  {
   "cell_type": "code",
   "execution_count": 35,
   "metadata": {},
   "outputs": [
    {
     "data": {
      "text/html": [
       "<div>\n",
       "<style scoped>\n",
       "    .dataframe tbody tr th:only-of-type {\n",
       "        vertical-align: middle;\n",
       "    }\n",
       "\n",
       "    .dataframe tbody tr th {\n",
       "        vertical-align: top;\n",
       "    }\n",
       "\n",
       "    .dataframe thead th {\n",
       "        text-align: right;\n",
       "    }\n",
       "</style>\n",
       "<table border=\"1\" class=\"dataframe\">\n",
       "  <thead>\n",
       "    <tr style=\"text-align: right;\">\n",
       "      <th></th>\n",
       "      <th>bathrooms</th>\n",
       "      <th>bedrooms</th>\n",
       "      <th>latitude</th>\n",
       "      <th>listing_id</th>\n",
       "      <th>longitude</th>\n",
       "      <th>price</th>\n",
       "      <th>log price</th>\n",
       "      <th>listing_year</th>\n",
       "      <th>listing_month</th>\n",
       "      <th>listing_day/month</th>\n",
       "    </tr>\n",
       "  </thead>\n",
       "  <tbody>\n",
       "    <tr>\n",
       "      <th>count</th>\n",
       "      <td>49352.00000</td>\n",
       "      <td>49352.000000</td>\n",
       "      <td>49352.000000</td>\n",
       "      <td>4.935200e+04</td>\n",
       "      <td>49352.000000</td>\n",
       "      <td>4.935200e+04</td>\n",
       "      <td>49352.000000</td>\n",
       "      <td>49352.0</td>\n",
       "      <td>49352.000000</td>\n",
       "      <td>49352.000000</td>\n",
       "    </tr>\n",
       "    <tr>\n",
       "      <th>mean</th>\n",
       "      <td>1.21218</td>\n",
       "      <td>1.541640</td>\n",
       "      <td>40.741545</td>\n",
       "      <td>7.024055e+06</td>\n",
       "      <td>-73.955716</td>\n",
       "      <td>3.830174e+03</td>\n",
       "      <td>8.099363</td>\n",
       "      <td>2016.0</td>\n",
       "      <td>5.014852</td>\n",
       "      <td>15.206881</td>\n",
       "    </tr>\n",
       "    <tr>\n",
       "      <th>std</th>\n",
       "      <td>0.50142</td>\n",
       "      <td>1.115018</td>\n",
       "      <td>0.638535</td>\n",
       "      <td>1.262746e+05</td>\n",
       "      <td>1.177912</td>\n",
       "      <td>2.206687e+04</td>\n",
       "      <td>0.432710</td>\n",
       "      <td>0.0</td>\n",
       "      <td>0.824442</td>\n",
       "      <td>8.280749</td>\n",
       "    </tr>\n",
       "    <tr>\n",
       "      <th>min</th>\n",
       "      <td>0.00000</td>\n",
       "      <td>0.000000</td>\n",
       "      <td>0.000000</td>\n",
       "      <td>6.811957e+06</td>\n",
       "      <td>-118.271000</td>\n",
       "      <td>4.300000e+01</td>\n",
       "      <td>3.784190</td>\n",
       "      <td>2016.0</td>\n",
       "      <td>4.000000</td>\n",
       "      <td>1.000000</td>\n",
       "    </tr>\n",
       "    <tr>\n",
       "      <th>25%</th>\n",
       "      <td>1.00000</td>\n",
       "      <td>1.000000</td>\n",
       "      <td>40.728300</td>\n",
       "      <td>6.915888e+06</td>\n",
       "      <td>-73.991700</td>\n",
       "      <td>2.500000e+03</td>\n",
       "      <td>7.824446</td>\n",
       "      <td>2016.0</td>\n",
       "      <td>4.000000</td>\n",
       "      <td>8.000000</td>\n",
       "    </tr>\n",
       "    <tr>\n",
       "      <th>50%</th>\n",
       "      <td>1.00000</td>\n",
       "      <td>1.000000</td>\n",
       "      <td>40.751800</td>\n",
       "      <td>7.021070e+06</td>\n",
       "      <td>-73.977900</td>\n",
       "      <td>3.150000e+03</td>\n",
       "      <td>8.055475</td>\n",
       "      <td>2016.0</td>\n",
       "      <td>5.000000</td>\n",
       "      <td>15.000000</td>\n",
       "    </tr>\n",
       "    <tr>\n",
       "      <th>75%</th>\n",
       "      <td>1.00000</td>\n",
       "      <td>2.000000</td>\n",
       "      <td>40.774300</td>\n",
       "      <td>7.128733e+06</td>\n",
       "      <td>-73.954800</td>\n",
       "      <td>4.100000e+03</td>\n",
       "      <td>8.318986</td>\n",
       "      <td>2016.0</td>\n",
       "      <td>6.000000</td>\n",
       "      <td>22.000000</td>\n",
       "    </tr>\n",
       "    <tr>\n",
       "      <th>max</th>\n",
       "      <td>10.00000</td>\n",
       "      <td>8.000000</td>\n",
       "      <td>44.883500</td>\n",
       "      <td>7.753784e+06</td>\n",
       "      <td>0.000000</td>\n",
       "      <td>4.490000e+06</td>\n",
       "      <td>15.317363</td>\n",
       "      <td>2016.0</td>\n",
       "      <td>6.000000</td>\n",
       "      <td>31.000000</td>\n",
       "    </tr>\n",
       "  </tbody>\n",
       "</table>\n",
       "</div>"
      ],
      "text/plain": [
       "         bathrooms      bedrooms      latitude    listing_id     longitude  \\\n",
       "count  49352.00000  49352.000000  49352.000000  4.935200e+04  49352.000000   \n",
       "mean       1.21218      1.541640     40.741545  7.024055e+06    -73.955716   \n",
       "std        0.50142      1.115018      0.638535  1.262746e+05      1.177912   \n",
       "min        0.00000      0.000000      0.000000  6.811957e+06   -118.271000   \n",
       "25%        1.00000      1.000000     40.728300  6.915888e+06    -73.991700   \n",
       "50%        1.00000      1.000000     40.751800  7.021070e+06    -73.977900   \n",
       "75%        1.00000      2.000000     40.774300  7.128733e+06    -73.954800   \n",
       "max       10.00000      8.000000     44.883500  7.753784e+06      0.000000   \n",
       "\n",
       "              price     log price  listing_year  listing_month  \\\n",
       "count  4.935200e+04  49352.000000       49352.0   49352.000000   \n",
       "mean   3.830174e+03      8.099363        2016.0       5.014852   \n",
       "std    2.206687e+04      0.432710           0.0       0.824442   \n",
       "min    4.300000e+01      3.784190        2016.0       4.000000   \n",
       "25%    2.500000e+03      7.824446        2016.0       4.000000   \n",
       "50%    3.150000e+03      8.055475        2016.0       5.000000   \n",
       "75%    4.100000e+03      8.318986        2016.0       6.000000   \n",
       "max    4.490000e+06     15.317363        2016.0       6.000000   \n",
       "\n",
       "       listing_day/month  \n",
       "count       49352.000000  \n",
       "mean           15.206881  \n",
       "std             8.280749  \n",
       "min             1.000000  \n",
       "25%             8.000000  \n",
       "50%            15.000000  \n",
       "75%            22.000000  \n",
       "max            31.000000  "
      ]
     },
     "execution_count": 35,
     "metadata": {},
     "output_type": "execute_result"
    }
   ],
   "source": [
    "df.describe()"
   ]
  },
  {
   "cell_type": "markdown",
   "metadata": {},
   "source": [
    "It seems that the listings were created all in 2016 between April and June (included). We should therefore drop **listing_year** as it is redundant. \n",
    "\n",
    "Now, it would be also interesting to know which day of the week was each listing posted instead of only knowing which day of the month."
   ]
  },
  {
   "cell_type": "code",
   "execution_count": 36,
   "metadata": {},
   "outputs": [],
   "source": [
    "df = df.drop(['listing_year'], axis=1)"
   ]
  },
  {
   "cell_type": "code",
   "execution_count": 37,
   "metadata": {},
   "outputs": [
    {
     "data": {
      "text/html": [
       "<div>\n",
       "<style scoped>\n",
       "    .dataframe tbody tr th:only-of-type {\n",
       "        vertical-align: middle;\n",
       "    }\n",
       "\n",
       "    .dataframe tbody tr th {\n",
       "        vertical-align: top;\n",
       "    }\n",
       "\n",
       "    .dataframe thead th {\n",
       "        text-align: right;\n",
       "    }\n",
       "</style>\n",
       "<table border=\"1\" class=\"dataframe\">\n",
       "  <thead>\n",
       "    <tr style=\"text-align: right;\">\n",
       "      <th></th>\n",
       "      <th>bathrooms</th>\n",
       "      <th>bedrooms</th>\n",
       "      <th>latitude</th>\n",
       "      <th>listing_id</th>\n",
       "      <th>longitude</th>\n",
       "      <th>price</th>\n",
       "      <th>log price</th>\n",
       "      <th>listing_month</th>\n",
       "      <th>listing_day/month</th>\n",
       "      <th>listing_day/week</th>\n",
       "    </tr>\n",
       "  </thead>\n",
       "  <tbody>\n",
       "    <tr>\n",
       "      <th>count</th>\n",
       "      <td>49352.00000</td>\n",
       "      <td>49352.000000</td>\n",
       "      <td>49352.000000</td>\n",
       "      <td>4.935200e+04</td>\n",
       "      <td>49352.000000</td>\n",
       "      <td>4.935200e+04</td>\n",
       "      <td>49352.000000</td>\n",
       "      <td>49352.000000</td>\n",
       "      <td>49352.000000</td>\n",
       "      <td>49352.000000</td>\n",
       "    </tr>\n",
       "    <tr>\n",
       "      <th>mean</th>\n",
       "      <td>1.21218</td>\n",
       "      <td>1.541640</td>\n",
       "      <td>40.741545</td>\n",
       "      <td>7.024055e+06</td>\n",
       "      <td>-73.955716</td>\n",
       "      <td>3.830174e+03</td>\n",
       "      <td>8.099363</td>\n",
       "      <td>5.014852</td>\n",
       "      <td>15.206881</td>\n",
       "      <td>2.922131</td>\n",
       "    </tr>\n",
       "    <tr>\n",
       "      <th>std</th>\n",
       "      <td>0.50142</td>\n",
       "      <td>1.115018</td>\n",
       "      <td>0.638535</td>\n",
       "      <td>1.262746e+05</td>\n",
       "      <td>1.177912</td>\n",
       "      <td>2.206687e+04</td>\n",
       "      <td>0.432710</td>\n",
       "      <td>0.824442</td>\n",
       "      <td>8.280749</td>\n",
       "      <td>1.784798</td>\n",
       "    </tr>\n",
       "    <tr>\n",
       "      <th>min</th>\n",
       "      <td>0.00000</td>\n",
       "      <td>0.000000</td>\n",
       "      <td>0.000000</td>\n",
       "      <td>6.811957e+06</td>\n",
       "      <td>-118.271000</td>\n",
       "      <td>4.300000e+01</td>\n",
       "      <td>3.784190</td>\n",
       "      <td>4.000000</td>\n",
       "      <td>1.000000</td>\n",
       "      <td>0.000000</td>\n",
       "    </tr>\n",
       "    <tr>\n",
       "      <th>25%</th>\n",
       "      <td>1.00000</td>\n",
       "      <td>1.000000</td>\n",
       "      <td>40.728300</td>\n",
       "      <td>6.915888e+06</td>\n",
       "      <td>-73.991700</td>\n",
       "      <td>2.500000e+03</td>\n",
       "      <td>7.824446</td>\n",
       "      <td>4.000000</td>\n",
       "      <td>8.000000</td>\n",
       "      <td>1.000000</td>\n",
       "    </tr>\n",
       "    <tr>\n",
       "      <th>50%</th>\n",
       "      <td>1.00000</td>\n",
       "      <td>1.000000</td>\n",
       "      <td>40.751800</td>\n",
       "      <td>7.021070e+06</td>\n",
       "      <td>-73.977900</td>\n",
       "      <td>3.150000e+03</td>\n",
       "      <td>8.055475</td>\n",
       "      <td>5.000000</td>\n",
       "      <td>15.000000</td>\n",
       "      <td>3.000000</td>\n",
       "    </tr>\n",
       "    <tr>\n",
       "      <th>75%</th>\n",
       "      <td>1.00000</td>\n",
       "      <td>2.000000</td>\n",
       "      <td>40.774300</td>\n",
       "      <td>7.128733e+06</td>\n",
       "      <td>-73.954800</td>\n",
       "      <td>4.100000e+03</td>\n",
       "      <td>8.318986</td>\n",
       "      <td>6.000000</td>\n",
       "      <td>22.000000</td>\n",
       "      <td>4.000000</td>\n",
       "    </tr>\n",
       "    <tr>\n",
       "      <th>max</th>\n",
       "      <td>10.00000</td>\n",
       "      <td>8.000000</td>\n",
       "      <td>44.883500</td>\n",
       "      <td>7.753784e+06</td>\n",
       "      <td>0.000000</td>\n",
       "      <td>4.490000e+06</td>\n",
       "      <td>15.317363</td>\n",
       "      <td>6.000000</td>\n",
       "      <td>31.000000</td>\n",
       "      <td>6.000000</td>\n",
       "    </tr>\n",
       "  </tbody>\n",
       "</table>\n",
       "</div>"
      ],
      "text/plain": [
       "         bathrooms      bedrooms      latitude    listing_id     longitude  \\\n",
       "count  49352.00000  49352.000000  49352.000000  4.935200e+04  49352.000000   \n",
       "mean       1.21218      1.541640     40.741545  7.024055e+06    -73.955716   \n",
       "std        0.50142      1.115018      0.638535  1.262746e+05      1.177912   \n",
       "min        0.00000      0.000000      0.000000  6.811957e+06   -118.271000   \n",
       "25%        1.00000      1.000000     40.728300  6.915888e+06    -73.991700   \n",
       "50%        1.00000      1.000000     40.751800  7.021070e+06    -73.977900   \n",
       "75%        1.00000      2.000000     40.774300  7.128733e+06    -73.954800   \n",
       "max       10.00000      8.000000     44.883500  7.753784e+06      0.000000   \n",
       "\n",
       "              price     log price  listing_month  listing_day/month  \\\n",
       "count  4.935200e+04  49352.000000   49352.000000       49352.000000   \n",
       "mean   3.830174e+03      8.099363       5.014852          15.206881   \n",
       "std    2.206687e+04      0.432710       0.824442           8.280749   \n",
       "min    4.300000e+01      3.784190       4.000000           1.000000   \n",
       "25%    2.500000e+03      7.824446       4.000000           8.000000   \n",
       "50%    3.150000e+03      8.055475       5.000000          15.000000   \n",
       "75%    4.100000e+03      8.318986       6.000000          22.000000   \n",
       "max    4.490000e+06     15.317363       6.000000          31.000000   \n",
       "\n",
       "       listing_day/week  \n",
       "count      49352.000000  \n",
       "mean           2.922131  \n",
       "std            1.784798  \n",
       "min            0.000000  \n",
       "25%            1.000000  \n",
       "50%            3.000000  \n",
       "75%            4.000000  \n",
       "max            6.000000  "
      ]
     },
     "execution_count": 37,
     "metadata": {},
     "output_type": "execute_result"
    }
   ],
   "source": [
    "df['listing_day/week'] = pd.DatetimeIndex(df['created']).dayofweek\n",
    "df.describe()"
   ]
  },
  {
   "cell_type": "markdown",
   "metadata": {},
   "source": [
    "Apart from that, the information about the time frame is important since the rental price is a time sensitive parameter (the price for one apartment varies over time). However, we can expect that the influence over a course of three month is marginal."
   ]
  },
  {
   "cell_type": "markdown",
   "metadata": {},
   "source": [
    "**'Description' column**"
   ]
  },
  {
   "cell_type": "code",
   "execution_count": 38,
   "metadata": {},
   "outputs": [
    {
     "data": {
      "text/html": [
       "<div>\n",
       "<style scoped>\n",
       "    .dataframe tbody tr th:only-of-type {\n",
       "        vertical-align: middle;\n",
       "    }\n",
       "\n",
       "    .dataframe tbody tr th {\n",
       "        vertical-align: top;\n",
       "    }\n",
       "\n",
       "    .dataframe thead th {\n",
       "        text-align: right;\n",
       "    }\n",
       "</style>\n",
       "<table border=\"1\" class=\"dataframe\">\n",
       "  <thead>\n",
       "    <tr style=\"text-align: right;\">\n",
       "      <th></th>\n",
       "      <th>description</th>\n",
       "    </tr>\n",
       "  </thead>\n",
       "  <tbody>\n",
       "    <tr>\n",
       "      <th>34100</th>\n",
       "      <td>NO FEE &amp; 1 MONTH FREE!!! Condo finishes large ...</td>\n",
       "    </tr>\n",
       "    <tr>\n",
       "      <th>45041</th>\n",
       "      <td></td>\n",
       "    </tr>\n",
       "    <tr>\n",
       "      <th>94327</th>\n",
       "      <td>In the heart of one of Manhattan's hottest nei...</td>\n",
       "    </tr>\n",
       "    <tr>\n",
       "      <th>114382</th>\n",
       "      <td></td>\n",
       "    </tr>\n",
       "    <tr>\n",
       "      <th>88517</th>\n",
       "      <td>Apartment Features:*Exposed brick*Balcony*Quee...</td>\n",
       "    </tr>\n",
       "    <tr>\n",
       "      <th>119298</th>\n",
       "      <td>Your own loft apartment on the same block as a...</td>\n",
       "    </tr>\n",
       "    <tr>\n",
       "      <th>42041</th>\n",
       "      <td>Magnificent views with wrap-around Jet-Set bal...</td>\n",
       "    </tr>\n",
       "    <tr>\n",
       "      <th>110738</th>\n",
       "      <td>Pet friendly building. Apartment features newl...</td>\n",
       "    </tr>\n",
       "    <tr>\n",
       "      <th>86817</th>\n",
       "      <td>Brand New apartment approximate 650 sqft amazi...</td>\n",
       "    </tr>\n",
       "    <tr>\n",
       "      <th>47952</th>\n",
       "      <td>&lt;![CDATA[2 bedrooms, 2350, Bedford Stuyvesant/...</td>\n",
       "    </tr>\n",
       "  </tbody>\n",
       "</table>\n",
       "</div>"
      ],
      "text/plain": [
       "                                              description\n",
       "34100   NO FEE & 1 MONTH FREE!!! Condo finishes large ...\n",
       "45041                                                    \n",
       "94327   In the heart of one of Manhattan's hottest nei...\n",
       "114382                                                   \n",
       "88517   Apartment Features:*Exposed brick*Balcony*Quee...\n",
       "119298  Your own loft apartment on the same block as a...\n",
       "42041   Magnificent views with wrap-around Jet-Set bal...\n",
       "110738  Pet friendly building. Apartment features newl...\n",
       "86817   Brand New apartment approximate 650 sqft amazi...\n",
       "47952   <![CDATA[2 bedrooms, 2350, Bedford Stuyvesant/..."
      ]
     },
     "execution_count": 38,
     "metadata": {},
     "output_type": "execute_result"
    }
   ],
   "source": [
    "df_desc=pd.DataFrame(df[\"description\"])\n",
    "df_desc.head(10)"
   ]
  },
  {
   "cell_type": "markdown",
   "metadata": {},
   "source": [
    "First of all we introduce a new column on description length. Maybe a landlord puts more/less effort in the description of a liting which is more expensive/cheaper?"
   ]
  },
  {
   "cell_type": "code",
   "execution_count": 39,
   "metadata": {},
   "outputs": [
    {
     "data": {
      "text/html": [
       "<div>\n",
       "<style scoped>\n",
       "    .dataframe tbody tr th:only-of-type {\n",
       "        vertical-align: middle;\n",
       "    }\n",
       "\n",
       "    .dataframe tbody tr th {\n",
       "        vertical-align: top;\n",
       "    }\n",
       "\n",
       "    .dataframe thead th {\n",
       "        text-align: right;\n",
       "    }\n",
       "</style>\n",
       "<table border=\"1\" class=\"dataframe\">\n",
       "  <thead>\n",
       "    <tr style=\"text-align: right;\">\n",
       "      <th></th>\n",
       "      <th>description</th>\n",
       "      <th>desc_len</th>\n",
       "    </tr>\n",
       "  </thead>\n",
       "  <tbody>\n",
       "    <tr>\n",
       "      <th>34100</th>\n",
       "      <td>NO FEE &amp; 1 MONTH FREE!!! Condo finishes large ...</td>\n",
       "      <td>896</td>\n",
       "    </tr>\n",
       "    <tr>\n",
       "      <th>45041</th>\n",
       "      <td></td>\n",
       "      <td>8</td>\n",
       "    </tr>\n",
       "  </tbody>\n",
       "</table>\n",
       "</div>"
      ],
      "text/plain": [
       "                                             description  desc_len\n",
       "34100  NO FEE & 1 MONTH FREE!!! Condo finishes large ...       896\n",
       "45041                                                            8"
      ]
     },
     "execution_count": 39,
     "metadata": {},
     "output_type": "execute_result"
    }
   ],
   "source": [
    "df_desc[\"desc_len\"]=df_desc[\"description\"].apply(lambda x:len(str(x)))\n",
    "df_desc.head(2)"
   ]
  },
  {
   "cell_type": "markdown",
   "metadata": {},
   "source": [
    "We see that the description fields contain one big string, with any kind of letters, digits and punctuation. Like this we cannot give it to a model, so we were thinking of a method of how to use the information in this column. We came up with the idea to extract keywords, and make columns out of these, just like we did for the \"features\" column. The first step is, to transform every string to lowercase, remove special characters and all digits."
   ]
  },
  {
   "cell_type": "code",
   "execution_count": 40,
   "metadata": {},
   "outputs": [
    {
     "data": {
      "text/html": [
       "<div>\n",
       "<style scoped>\n",
       "    .dataframe tbody tr th:only-of-type {\n",
       "        vertical-align: middle;\n",
       "    }\n",
       "\n",
       "    .dataframe tbody tr th {\n",
       "        vertical-align: top;\n",
       "    }\n",
       "\n",
       "    .dataframe thead th {\n",
       "        text-align: right;\n",
       "    }\n",
       "</style>\n",
       "<table border=\"1\" class=\"dataframe\">\n",
       "  <thead>\n",
       "    <tr style=\"text-align: right;\">\n",
       "      <th></th>\n",
       "      <th>description</th>\n",
       "      <th>desc_len</th>\n",
       "      <th>description_pre</th>\n",
       "    </tr>\n",
       "  </thead>\n",
       "  <tbody>\n",
       "    <tr>\n",
       "      <th>34100</th>\n",
       "      <td>NO FEE &amp; 1 MONTH FREE!!! Condo finishes large ...</td>\n",
       "      <td>896</td>\n",
       "      <td>no fee month free condo finishes large bd ba l...</td>\n",
       "    </tr>\n",
       "    <tr>\n",
       "      <th>45041</th>\n",
       "      <td></td>\n",
       "      <td>8</td>\n",
       "      <td></td>\n",
       "    </tr>\n",
       "    <tr>\n",
       "      <th>94327</th>\n",
       "      <td>In the heart of one of Manhattan's hottest nei...</td>\n",
       "      <td>891</td>\n",
       "      <td>in the heart of one of manhattan s hottest nei...</td>\n",
       "    </tr>\n",
       "    <tr>\n",
       "      <th>114382</th>\n",
       "      <td></td>\n",
       "      <td>0</td>\n",
       "      <td></td>\n",
       "    </tr>\n",
       "    <tr>\n",
       "      <th>88517</th>\n",
       "      <td>Apartment Features:*Exposed brick*Balcony*Quee...</td>\n",
       "      <td>532</td>\n",
       "      <td>apartment features exposed brick balcony queen...</td>\n",
       "    </tr>\n",
       "    <tr>\n",
       "      <th>119298</th>\n",
       "      <td>Your own loft apartment on the same block as a...</td>\n",
       "      <td>947</td>\n",
       "      <td>your own loft apartment on the same block as a...</td>\n",
       "    </tr>\n",
       "    <tr>\n",
       "      <th>42041</th>\n",
       "      <td>Magnificent views with wrap-around Jet-Set bal...</td>\n",
       "      <td>869</td>\n",
       "      <td>magnificent views with wrap around jet set bal...</td>\n",
       "    </tr>\n",
       "    <tr>\n",
       "      <th>110738</th>\n",
       "      <td>Pet friendly building. Apartment features newl...</td>\n",
       "      <td>569</td>\n",
       "      <td>pet friendly building apartment features newly...</td>\n",
       "    </tr>\n",
       "    <tr>\n",
       "      <th>86817</th>\n",
       "      <td>Brand New apartment approximate 650 sqft amazi...</td>\n",
       "      <td>492</td>\n",
       "      <td>brand new apartment approximate sqft amazing s...</td>\n",
       "    </tr>\n",
       "    <tr>\n",
       "      <th>47952</th>\n",
       "      <td>&lt;![CDATA[2 bedrooms, 2350, Bedford Stuyvesant/...</td>\n",
       "      <td>447</td>\n",
       "      <td>cdata bedrooms bedford stuyvesant bushwick cr...</td>\n",
       "    </tr>\n",
       "  </tbody>\n",
       "</table>\n",
       "</div>"
      ],
      "text/plain": [
       "                                              description  desc_len  \\\n",
       "34100   NO FEE & 1 MONTH FREE!!! Condo finishes large ...       896   \n",
       "45041                                                             8   \n",
       "94327   In the heart of one of Manhattan's hottest nei...       891   \n",
       "114382                                                            0   \n",
       "88517   Apartment Features:*Exposed brick*Balcony*Quee...       532   \n",
       "119298  Your own loft apartment on the same block as a...       947   \n",
       "42041   Magnificent views with wrap-around Jet-Set bal...       869   \n",
       "110738  Pet friendly building. Apartment features newl...       569   \n",
       "86817   Brand New apartment approximate 650 sqft amazi...       492   \n",
       "47952   <![CDATA[2 bedrooms, 2350, Bedford Stuyvesant/...       447   \n",
       "\n",
       "                                          description_pre  \n",
       "34100   no fee month free condo finishes large bd ba l...  \n",
       "45041                                                      \n",
       "94327   in the heart of one of manhattan s hottest nei...  \n",
       "114382                                                     \n",
       "88517   apartment features exposed brick balcony queen...  \n",
       "119298  your own loft apartment on the same block as a...  \n",
       "42041   magnificent views with wrap around jet set bal...  \n",
       "110738  pet friendly building apartment features newly...  \n",
       "86817   brand new apartment approximate sqft amazing s...  \n",
       "47952    cdata bedrooms bedford stuyvesant bushwick cr...  "
      ]
     },
     "execution_count": 40,
     "metadata": {},
     "output_type": "execute_result"
    }
   ],
   "source": [
    "import re\n",
    "def pre_process (text):\n",
    "    #lowercase everything\n",
    "    text=text.lower()\n",
    "    \n",
    "    #remove tags\n",
    "    text=re.sub (\"&lt;/?.*?&gt;\", \"&lt;&gt; \", text)\n",
    "    \n",
    "    #remove special characters and digits\n",
    "    \n",
    "    text=re.sub(\"(\\\\d|\\\\W)+\", \" \", text)\n",
    "    \n",
    "    return text\n",
    "\n",
    "df_desc[\"description_pre\"]=df_desc[\"description\"].apply(lambda x: pre_process(x))\n",
    "\n",
    "df_desc.head(10)"
   ]
  },
  {
   "cell_type": "markdown",
   "metadata": {},
   "source": [
    "In the next step we will transform the description string into a list of keywords. We are using the nltk package to tokenize (=to seperate the text into words with comma) and to remove stopwords (=words that are definitely no keywords, e.g. \"with\", \"to\", \"of\" or \"very\"). In order to be able to run the nltk functions, the **nltk packages \"stopwords\" and \"punkt\" must be downloaded**. Therefore the code below must be \"uncommented\" and executed."
   ]
  },
  {
   "cell_type": "code",
   "execution_count": 41,
   "metadata": {},
   "outputs": [],
   "source": [
    "import nltk\n",
    "#nltk.download('stopwords')\n",
    "#nltk.download('punkt')\n",
    "\n",
    "from nltk.tokenize import word_tokenize\n",
    "from nltk.corpus import stopwords"
   ]
  },
  {
   "cell_type": "code",
   "execution_count": 42,
   "metadata": {},
   "outputs": [
    {
     "data": {
      "text/html": [
       "<div>\n",
       "<style scoped>\n",
       "    .dataframe tbody tr th:only-of-type {\n",
       "        vertical-align: middle;\n",
       "    }\n",
       "\n",
       "    .dataframe tbody tr th {\n",
       "        vertical-align: top;\n",
       "    }\n",
       "\n",
       "    .dataframe thead th {\n",
       "        text-align: right;\n",
       "    }\n",
       "</style>\n",
       "<table border=\"1\" class=\"dataframe\">\n",
       "  <thead>\n",
       "    <tr style=\"text-align: right;\">\n",
       "      <th></th>\n",
       "      <th>description</th>\n",
       "      <th>desc_len</th>\n",
       "      <th>description_pre</th>\n",
       "      <th>keywords</th>\n",
       "    </tr>\n",
       "  </thead>\n",
       "  <tbody>\n",
       "    <tr>\n",
       "      <th>34100</th>\n",
       "      <td>NO FEE &amp; 1 MONTH FREE!!! Condo finishes large ...</td>\n",
       "      <td>896</td>\n",
       "      <td>no fee month free condo finishes large bd ba l...</td>\n",
       "      <td>fee,month,free,condo,finishes,large,bd,ba,loca...</td>\n",
       "    </tr>\n",
       "    <tr>\n",
       "      <th>45041</th>\n",
       "      <td></td>\n",
       "      <td>8</td>\n",
       "      <td></td>\n",
       "      <td></td>\n",
       "    </tr>\n",
       "    <tr>\n",
       "      <th>94327</th>\n",
       "      <td>In the heart of one of Manhattan's hottest nei...</td>\n",
       "      <td>891</td>\n",
       "      <td>in the heart of one of manhattan s hottest nei...</td>\n",
       "      <td>heart,one,manhattan,hottest,neighborhoods,meat...</td>\n",
       "    </tr>\n",
       "    <tr>\n",
       "      <th>114382</th>\n",
       "      <td></td>\n",
       "      <td>0</td>\n",
       "      <td></td>\n",
       "      <td></td>\n",
       "    </tr>\n",
       "    <tr>\n",
       "      <th>88517</th>\n",
       "      <td>Apartment Features:*Exposed brick*Balcony*Quee...</td>\n",
       "      <td>532</td>\n",
       "      <td>apartment features exposed brick balcony queen...</td>\n",
       "      <td>apartment,features,exposed,brick,balcony,queen...</td>\n",
       "    </tr>\n",
       "    <tr>\n",
       "      <th>119298</th>\n",
       "      <td>Your own loft apartment on the same block as a...</td>\n",
       "      <td>947</td>\n",
       "      <td>your own loft apartment on the same block as a...</td>\n",
       "      <td>loft,apartment,block,famous,nfl,superbowl,winn...</td>\n",
       "    </tr>\n",
       "    <tr>\n",
       "      <th>42041</th>\n",
       "      <td>Magnificent views with wrap-around Jet-Set bal...</td>\n",
       "      <td>869</td>\n",
       "      <td>magnificent views with wrap around jet set bal...</td>\n",
       "      <td>magnificent,views,wrap,around,jet,set,balcony,...</td>\n",
       "    </tr>\n",
       "    <tr>\n",
       "      <th>110738</th>\n",
       "      <td>Pet friendly building. Apartment features newl...</td>\n",
       "      <td>569</td>\n",
       "      <td>pet friendly building apartment features newly...</td>\n",
       "      <td>pet,friendly,building,apartment,features,newly...</td>\n",
       "    </tr>\n",
       "    <tr>\n",
       "      <th>86817</th>\n",
       "      <td>Brand New apartment approximate 650 sqft amazi...</td>\n",
       "      <td>492</td>\n",
       "      <td>brand new apartment approximate sqft amazing s...</td>\n",
       "      <td>brand,new,apartment,approximate,sqft,amazing,s...</td>\n",
       "    </tr>\n",
       "    <tr>\n",
       "      <th>47952</th>\n",
       "      <td>&lt;![CDATA[2 bedrooms, 2350, Bedford Stuyvesant/...</td>\n",
       "      <td>447</td>\n",
       "      <td>cdata bedrooms bedford stuyvesant bushwick cr...</td>\n",
       "      <td>cdata,bedrooms,bedford,stuyvesant,bushwick,cro...</td>\n",
       "    </tr>\n",
       "  </tbody>\n",
       "</table>\n",
       "</div>"
      ],
      "text/plain": [
       "                                              description  desc_len  \\\n",
       "34100   NO FEE & 1 MONTH FREE!!! Condo finishes large ...       896   \n",
       "45041                                                             8   \n",
       "94327   In the heart of one of Manhattan's hottest nei...       891   \n",
       "114382                                                            0   \n",
       "88517   Apartment Features:*Exposed brick*Balcony*Quee...       532   \n",
       "119298  Your own loft apartment on the same block as a...       947   \n",
       "42041   Magnificent views with wrap-around Jet-Set bal...       869   \n",
       "110738  Pet friendly building. Apartment features newl...       569   \n",
       "86817   Brand New apartment approximate 650 sqft amazi...       492   \n",
       "47952   <![CDATA[2 bedrooms, 2350, Bedford Stuyvesant/...       447   \n",
       "\n",
       "                                          description_pre  \\\n",
       "34100   no fee month free condo finishes large bd ba l...   \n",
       "45041                                                       \n",
       "94327   in the heart of one of manhattan s hottest nei...   \n",
       "114382                                                      \n",
       "88517   apartment features exposed brick balcony queen...   \n",
       "119298  your own loft apartment on the same block as a...   \n",
       "42041   magnificent views with wrap around jet set bal...   \n",
       "110738  pet friendly building apartment features newly...   \n",
       "86817   brand new apartment approximate sqft amazing s...   \n",
       "47952    cdata bedrooms bedford stuyvesant bushwick cr...   \n",
       "\n",
       "                                                 keywords  \n",
       "34100   fee,month,free,condo,finishes,large,bd,ba,loca...  \n",
       "45041                                                      \n",
       "94327   heart,one,manhattan,hottest,neighborhoods,meat...  \n",
       "114382                                                     \n",
       "88517   apartment,features,exposed,brick,balcony,queen...  \n",
       "119298  loft,apartment,block,famous,nfl,superbowl,winn...  \n",
       "42041   magnificent,views,wrap,around,jet,set,balcony,...  \n",
       "110738  pet,friendly,building,apartment,features,newly...  \n",
       "86817   brand,new,apartment,approximate,sqft,amazing,s...  \n",
       "47952   cdata,bedrooms,bedford,stuyvesant,bushwick,cro...  "
      ]
     },
     "execution_count": 42,
     "metadata": {},
     "output_type": "execute_result"
    }
   ],
   "source": [
    "stop_words=stopwords.words('english')\n",
    "\n",
    "def get_keywords(row):\n",
    "    \"\"\"transforms text into keywords, leaving out stopwords\"\"\"\n",
    "    row_desc=row[\"description_pre\"]\n",
    "    tokens=nltk.tokenize.word_tokenize(row_desc)\n",
    "    keywords=[keyword for keyword in tokens if keyword.isalpha() and not keyword in stop_words]\n",
    "    keywords_string= ','.join(keywords)\n",
    "    return keywords_string\n",
    "\n",
    "df_desc[\"keywords\"]=df_desc.apply(get_keywords, axis=1)\n",
    "df_desc.head(10)"
   ]
  },
  {
   "cell_type": "markdown",
   "metadata": {},
   "source": [
    "First of all, we can generate a new column \"keyword_count\" which indicates just the amount of keywords in the description. It might be a hint if a landlord has put a lot of effort in describing a listing, which could be necessary due to a high price."
   ]
  },
  {
   "cell_type": "code",
   "execution_count": 43,
   "metadata": {},
   "outputs": [
    {
     "data": {
      "text/html": [
       "<div>\n",
       "<style scoped>\n",
       "    .dataframe tbody tr th:only-of-type {\n",
       "        vertical-align: middle;\n",
       "    }\n",
       "\n",
       "    .dataframe tbody tr th {\n",
       "        vertical-align: top;\n",
       "    }\n",
       "\n",
       "    .dataframe thead th {\n",
       "        text-align: right;\n",
       "    }\n",
       "</style>\n",
       "<table border=\"1\" class=\"dataframe\">\n",
       "  <thead>\n",
       "    <tr style=\"text-align: right;\">\n",
       "      <th></th>\n",
       "      <th>description</th>\n",
       "      <th>desc_len</th>\n",
       "      <th>description_pre</th>\n",
       "      <th>keywords</th>\n",
       "      <th>keyword_count</th>\n",
       "    </tr>\n",
       "  </thead>\n",
       "  <tbody>\n",
       "    <tr>\n",
       "      <th>34100</th>\n",
       "      <td>NO FEE &amp; 1 MONTH FREE!!! Condo finishes large ...</td>\n",
       "      <td>896</td>\n",
       "      <td>no fee month free condo finishes large bd ba l...</td>\n",
       "      <td>fee,month,free,condo,finishes,large,bd,ba,loca...</td>\n",
       "      <td>100</td>\n",
       "    </tr>\n",
       "    <tr>\n",
       "      <th>45041</th>\n",
       "      <td></td>\n",
       "      <td>8</td>\n",
       "      <td></td>\n",
       "      <td></td>\n",
       "      <td>1</td>\n",
       "    </tr>\n",
       "  </tbody>\n",
       "</table>\n",
       "</div>"
      ],
      "text/plain": [
       "                                             description  desc_len  \\\n",
       "34100  NO FEE & 1 MONTH FREE!!! Condo finishes large ...       896   \n",
       "45041                                                            8   \n",
       "\n",
       "                                         description_pre  \\\n",
       "34100  no fee month free condo finishes large bd ba l...   \n",
       "45041                                                      \n",
       "\n",
       "                                                keywords  keyword_count  \n",
       "34100  fee,month,free,condo,finishes,large,bd,ba,loca...            100  \n",
       "45041                                                                 1  "
      ]
     },
     "execution_count": 43,
     "metadata": {},
     "output_type": "execute_result"
    }
   ],
   "source": [
    "df_desc[\"keyword_count\"]=df_desc[\"keywords\"].apply(lambda x: len(x.split(',')))\n",
    "df_desc.head(2)"
   ]
  },
  {
   "cell_type": "markdown",
   "metadata": {},
   "source": [
    "Now, we want to get a notion on the **most often used keywords**, manually find those which describe apartments well and then create a column for these. We are especially looking for **descriptive adjectives**, information about **surrounding** (e.g. \"restaurants\") and infomation about **amenities** inside the flat (like \"microwave\")."
   ]
  },
  {
   "cell_type": "code",
   "execution_count": 44,
   "metadata": {},
   "outputs": [
    {
     "data": {
      "text/plain": [
       "['fee',\n",
       " 'month',\n",
       " 'free',\n",
       " 'condo',\n",
       " 'finishes',\n",
       " 'large',\n",
       " 'bd',\n",
       " 'ba',\n",
       " 'located',\n",
       " 'prewar']"
      ]
     },
     "execution_count": 44,
     "metadata": {},
     "output_type": "execute_result"
    }
   ],
   "source": [
    "#extract all keywords from the keywords column and write them into a list\n",
    "import numpy as np\n",
    "all_keywords=df_desc[\"keywords\"].str.cat().split(',')\n",
    "all_keywords[:10]"
   ]
  },
  {
   "cell_type": "code",
   "execution_count": 45,
   "metadata": {},
   "outputs": [
    {
     "name": "stdout",
     "output_type": "stream",
     "text": [
      "count of all keywords: 3161531\n",
      "number of unique keywords: 41533\n"
     ]
    }
   ],
   "source": [
    "#create a list of unique keywords\n",
    "unique_keywords=list(set(all_keywords))\n",
    "print('count of all keywords: '+ str(len(all_keywords)))\n",
    "print('number of unique keywords: '+ str(len(unique_keywords)))"
   ]
  },
  {
   "cell_type": "code",
   "execution_count": 46,
   "metadata": {},
   "outputs": [],
   "source": [
    "#use the counter to create a new dataframe with all keywords and there occurances in the dataframe.\n",
    "#We are looking at the keywords manually in the next step and will use the count column to decide whether it is worth introducing a new column.\n",
    "from collections import Counter\n",
    "counts=Counter(all_keywords)\n",
    "df_counts=pd.DataFrame.from_records(counts.most_common(), columns=[\"keyword\", \"count\"])"
   ]
  },
  {
   "cell_type": "code",
   "execution_count": 47,
   "metadata": {},
   "outputs": [],
   "source": [
    "#This step was used to select desc_cols, it is not needed anymore and therefore commented out:\n",
    "\n",
    "#df_counts.to_excel(\"feature_counts.xlsx\")"
   ]
  },
  {
   "cell_type": "code",
   "execution_count": 48,
   "metadata": {},
   "outputs": [
    {
     "data": {
      "text/html": [
       "<div>\n",
       "<style scoped>\n",
       "    .dataframe tbody tr th:only-of-type {\n",
       "        vertical-align: middle;\n",
       "    }\n",
       "\n",
       "    .dataframe tbody tr th {\n",
       "        vertical-align: top;\n",
       "    }\n",
       "\n",
       "    .dataframe thead th {\n",
       "        text-align: right;\n",
       "    }\n",
       "</style>\n",
       "<table border=\"1\" class=\"dataframe\">\n",
       "  <thead>\n",
       "    <tr style=\"text-align: right;\">\n",
       "      <th></th>\n",
       "      <th>description</th>\n",
       "      <th>desc_len</th>\n",
       "      <th>description_pre</th>\n",
       "      <th>keywords</th>\n",
       "      <th>keyword_count</th>\n",
       "      <th>keyw_lists</th>\n",
       "    </tr>\n",
       "  </thead>\n",
       "  <tbody>\n",
       "    <tr>\n",
       "      <th>34100</th>\n",
       "      <td>NO FEE &amp; 1 MONTH FREE!!! Condo finishes large ...</td>\n",
       "      <td>896</td>\n",
       "      <td>no fee month free condo finishes large bd ba l...</td>\n",
       "      <td>fee,month,free,condo,finishes,large,bd,ba,loca...</td>\n",
       "      <td>100</td>\n",
       "      <td>[fee, month, free, condo, finishes, large, bd,...</td>\n",
       "    </tr>\n",
       "    <tr>\n",
       "      <th>45041</th>\n",
       "      <td></td>\n",
       "      <td>8</td>\n",
       "      <td></td>\n",
       "      <td></td>\n",
       "      <td>1</td>\n",
       "      <td>[]</td>\n",
       "    </tr>\n",
       "    <tr>\n",
       "      <th>94327</th>\n",
       "      <td>In the heart of one of Manhattan's hottest nei...</td>\n",
       "      <td>891</td>\n",
       "      <td>in the heart of one of manhattan s hottest nei...</td>\n",
       "      <td>heart,one,manhattan,hottest,neighborhoods,meat...</td>\n",
       "      <td>93</td>\n",
       "      <td>[heart, one, manhattan, hottest, neighborhoods...</td>\n",
       "    </tr>\n",
       "    <tr>\n",
       "      <th>114382</th>\n",
       "      <td></td>\n",
       "      <td>0</td>\n",
       "      <td></td>\n",
       "      <td></td>\n",
       "      <td>1</td>\n",
       "      <td>[]</td>\n",
       "    </tr>\n",
       "    <tr>\n",
       "      <th>88517</th>\n",
       "      <td>Apartment Features:*Exposed brick*Balcony*Quee...</td>\n",
       "      <td>532</td>\n",
       "      <td>apartment features exposed brick balcony queen...</td>\n",
       "      <td>apartment,features,exposed,brick,balcony,queen...</td>\n",
       "      <td>64</td>\n",
       "      <td>[apartment, features, exposed, brick, balcony,...</td>\n",
       "    </tr>\n",
       "  </tbody>\n",
       "</table>\n",
       "</div>"
      ],
      "text/plain": [
       "                                              description  desc_len  \\\n",
       "34100   NO FEE & 1 MONTH FREE!!! Condo finishes large ...       896   \n",
       "45041                                                             8   \n",
       "94327   In the heart of one of Manhattan's hottest nei...       891   \n",
       "114382                                                            0   \n",
       "88517   Apartment Features:*Exposed brick*Balcony*Quee...       532   \n",
       "\n",
       "                                          description_pre  \\\n",
       "34100   no fee month free condo finishes large bd ba l...   \n",
       "45041                                                       \n",
       "94327   in the heart of one of manhattan s hottest nei...   \n",
       "114382                                                      \n",
       "88517   apartment features exposed brick balcony queen...   \n",
       "\n",
       "                                                 keywords  keyword_count  \\\n",
       "34100   fee,month,free,condo,finishes,large,bd,ba,loca...            100   \n",
       "45041                                                                  1   \n",
       "94327   heart,one,manhattan,hottest,neighborhoods,meat...             93   \n",
       "114382                                                                 1   \n",
       "88517   apartment,features,exposed,brick,balcony,queen...             64   \n",
       "\n",
       "                                               keyw_lists  \n",
       "34100   [fee, month, free, condo, finishes, large, bd,...  \n",
       "45041                                                  []  \n",
       "94327   [heart, one, manhattan, hottest, neighborhoods...  \n",
       "114382                                                 []  \n",
       "88517   [apartment, features, exposed, brick, balcony,...  "
      ]
     },
     "execution_count": 48,
     "metadata": {},
     "output_type": "execute_result"
    }
   ],
   "source": [
    "desc_cols=['renovated', 'stainless', 'large', 'high', 'great', 'marble', 'park', 'granite', 'restaurants', 'dishwasher', 'private', 'spacious', 'amenities', 'luxury', 'beautiful', 'light', 'washer', 'free', 'central', 'subway', 'fitness', 'amazing', 'shopping', 'open', 'natural', 'service', 'super', 'heart', 'upper', 'best', 'gym', 'queen', 'microwave', 'river', 'friendly', 'parking', 'exclusive', 'bright', 'sun', 'rooftop', 'gorgeous', 'price', 'quiet', 'balcony', 'bar', 'nightlife']\n",
    "\n",
    "#currently the keyword column contains still one single string containing of various words and commas\n",
    "#in this step we are transforming it into a list of strings, so we can then iterate over every word seperately\n",
    "df_desc['keyw_lists']=df_desc['keywords'].apply(lambda x: list(x.split(\",\")))\n",
    "df_desc.head()"
   ]
  },
  {
   "cell_type": "code",
   "execution_count": 49,
   "metadata": {},
   "outputs": [
    {
     "data": {
      "text/html": [
       "<div>\n",
       "<style scoped>\n",
       "    .dataframe tbody tr th:only-of-type {\n",
       "        vertical-align: middle;\n",
       "    }\n",
       "\n",
       "    .dataframe tbody tr th {\n",
       "        vertical-align: top;\n",
       "    }\n",
       "\n",
       "    .dataframe thead th {\n",
       "        text-align: right;\n",
       "    }\n",
       "</style>\n",
       "<table border=\"1\" class=\"dataframe\">\n",
       "  <thead>\n",
       "    <tr style=\"text-align: right;\">\n",
       "      <th></th>\n",
       "      <th>renovated</th>\n",
       "      <th>stainless</th>\n",
       "      <th>large</th>\n",
       "      <th>high</th>\n",
       "      <th>great</th>\n",
       "      <th>marble</th>\n",
       "      <th>park</th>\n",
       "      <th>granite</th>\n",
       "      <th>restaurants</th>\n",
       "      <th>dishwasher</th>\n",
       "      <th>...</th>\n",
       "      <th>exclusive</th>\n",
       "      <th>bright</th>\n",
       "      <th>sun</th>\n",
       "      <th>rooftop</th>\n",
       "      <th>gorgeous</th>\n",
       "      <th>price</th>\n",
       "      <th>quiet</th>\n",
       "      <th>balcony</th>\n",
       "      <th>bar</th>\n",
       "      <th>nightlife</th>\n",
       "    </tr>\n",
       "  </thead>\n",
       "  <tbody>\n",
       "    <tr>\n",
       "      <th>0</th>\n",
       "      <td>0</td>\n",
       "      <td>1</td>\n",
       "      <td>1</td>\n",
       "      <td>0</td>\n",
       "      <td>0</td>\n",
       "      <td>1</td>\n",
       "      <td>0</td>\n",
       "      <td>0</td>\n",
       "      <td>0</td>\n",
       "      <td>1</td>\n",
       "      <td>...</td>\n",
       "      <td>0</td>\n",
       "      <td>0</td>\n",
       "      <td>0</td>\n",
       "      <td>0</td>\n",
       "      <td>0</td>\n",
       "      <td>1</td>\n",
       "      <td>0</td>\n",
       "      <td>0</td>\n",
       "      <td>0</td>\n",
       "      <td>0</td>\n",
       "    </tr>\n",
       "    <tr>\n",
       "      <th>1</th>\n",
       "      <td>0</td>\n",
       "      <td>0</td>\n",
       "      <td>0</td>\n",
       "      <td>0</td>\n",
       "      <td>0</td>\n",
       "      <td>0</td>\n",
       "      <td>0</td>\n",
       "      <td>0</td>\n",
       "      <td>0</td>\n",
       "      <td>0</td>\n",
       "      <td>...</td>\n",
       "      <td>0</td>\n",
       "      <td>0</td>\n",
       "      <td>0</td>\n",
       "      <td>0</td>\n",
       "      <td>0</td>\n",
       "      <td>0</td>\n",
       "      <td>0</td>\n",
       "      <td>0</td>\n",
       "      <td>0</td>\n",
       "      <td>0</td>\n",
       "    </tr>\n",
       "    <tr>\n",
       "      <th>2</th>\n",
       "      <td>1</td>\n",
       "      <td>1</td>\n",
       "      <td>0</td>\n",
       "      <td>1</td>\n",
       "      <td>0</td>\n",
       "      <td>1</td>\n",
       "      <td>1</td>\n",
       "      <td>1</td>\n",
       "      <td>0</td>\n",
       "      <td>0</td>\n",
       "      <td>...</td>\n",
       "      <td>0</td>\n",
       "      <td>0</td>\n",
       "      <td>0</td>\n",
       "      <td>0</td>\n",
       "      <td>0</td>\n",
       "      <td>0</td>\n",
       "      <td>0</td>\n",
       "      <td>0</td>\n",
       "      <td>0</td>\n",
       "      <td>0</td>\n",
       "    </tr>\n",
       "    <tr>\n",
       "      <th>3</th>\n",
       "      <td>0</td>\n",
       "      <td>0</td>\n",
       "      <td>0</td>\n",
       "      <td>0</td>\n",
       "      <td>0</td>\n",
       "      <td>0</td>\n",
       "      <td>0</td>\n",
       "      <td>0</td>\n",
       "      <td>0</td>\n",
       "      <td>0</td>\n",
       "      <td>...</td>\n",
       "      <td>0</td>\n",
       "      <td>0</td>\n",
       "      <td>0</td>\n",
       "      <td>0</td>\n",
       "      <td>0</td>\n",
       "      <td>0</td>\n",
       "      <td>0</td>\n",
       "      <td>0</td>\n",
       "      <td>0</td>\n",
       "      <td>0</td>\n",
       "    </tr>\n",
       "    <tr>\n",
       "      <th>4</th>\n",
       "      <td>0</td>\n",
       "      <td>1</td>\n",
       "      <td>0</td>\n",
       "      <td>0</td>\n",
       "      <td>0</td>\n",
       "      <td>1</td>\n",
       "      <td>0</td>\n",
       "      <td>1</td>\n",
       "      <td>1</td>\n",
       "      <td>1</td>\n",
       "      <td>...</td>\n",
       "      <td>0</td>\n",
       "      <td>0</td>\n",
       "      <td>0</td>\n",
       "      <td>0</td>\n",
       "      <td>0</td>\n",
       "      <td>0</td>\n",
       "      <td>1</td>\n",
       "      <td>1</td>\n",
       "      <td>0</td>\n",
       "      <td>0</td>\n",
       "    </tr>\n",
       "  </tbody>\n",
       "</table>\n",
       "<p>5 rows × 46 columns</p>\n",
       "</div>"
      ],
      "text/plain": [
       "   renovated  stainless  large  high  great  marble  park  granite  \\\n",
       "0          0          1      1     0      0       1     0        0   \n",
       "1          0          0      0     0      0       0     0        0   \n",
       "2          1          1      0     1      0       1     1        1   \n",
       "3          0          0      0     0      0       0     0        0   \n",
       "4          0          1      0     0      0       1     0        1   \n",
       "\n",
       "   restaurants  dishwasher  ...  exclusive  bright  sun  rooftop  gorgeous  \\\n",
       "0            0           1  ...          0       0    0        0         0   \n",
       "1            0           0  ...          0       0    0        0         0   \n",
       "2            0           0  ...          0       0    0        0         0   \n",
       "3            0           0  ...          0       0    0        0         0   \n",
       "4            1           1  ...          0       0    0        0         0   \n",
       "\n",
       "   price  quiet  balcony  bar  nightlife  \n",
       "0      1      0        0    0          0  \n",
       "1      0      0        0    0          0  \n",
       "2      0      0        0    0          0  \n",
       "3      0      0        0    0          0  \n",
       "4      0      1        1    0          0  \n",
       "\n",
       "[5 rows x 46 columns]"
      ]
     },
     "execution_count": 49,
     "metadata": {},
     "output_type": "execute_result"
    }
   ],
   "source": [
    "#transform keywords into binary columns with the sklearn MultiLabelBinarizer\n",
    "from sklearn.preprocessing import MultiLabelBinarizer\n",
    "\n",
    "mlb = MultiLabelBinarizer()\n",
    "df_desc_cols= pd.DataFrame(mlb.fit_transform(df_desc['keyw_lists']), columns= mlb.classes_)\n",
    "\n",
    "#because the MLB creates a column for EACH keyword it finds in the data, we will now remove most of the columns again, \n",
    "#only keeping the choices of words we picked in the desc_cols list\n",
    "df_desc_cols = df_desc_cols [desc_cols]\n",
    "df_desc_cols.head()"
   ]
  },
  {
   "cell_type": "markdown",
   "metadata": {},
   "source": [
    "Now we will concatenate the df_desc containing the keyword count column and the new df_desc_cols together to the final dataframe about \"Description\". This is everything we will do with this column, so we drop the original column and the columns we just had created for intermediate steps."
   ]
  },
  {
   "cell_type": "code",
   "execution_count": 50,
   "metadata": {},
   "outputs": [
    {
     "data": {
      "text/html": [
       "<div>\n",
       "<style scoped>\n",
       "    .dataframe tbody tr th:only-of-type {\n",
       "        vertical-align: middle;\n",
       "    }\n",
       "\n",
       "    .dataframe tbody tr th {\n",
       "        vertical-align: top;\n",
       "    }\n",
       "\n",
       "    .dataframe thead th {\n",
       "        text-align: right;\n",
       "    }\n",
       "</style>\n",
       "<table border=\"1\" class=\"dataframe\">\n",
       "  <thead>\n",
       "    <tr style=\"text-align: right;\">\n",
       "      <th></th>\n",
       "      <th>desc_len</th>\n",
       "      <th>keyword_count</th>\n",
       "      <th>renovated</th>\n",
       "      <th>stainless</th>\n",
       "      <th>large</th>\n",
       "      <th>high</th>\n",
       "      <th>great</th>\n",
       "      <th>marble</th>\n",
       "      <th>park</th>\n",
       "      <th>granite</th>\n",
       "      <th>...</th>\n",
       "      <th>exclusive</th>\n",
       "      <th>bright</th>\n",
       "      <th>sun</th>\n",
       "      <th>rooftop</th>\n",
       "      <th>gorgeous</th>\n",
       "      <th>price</th>\n",
       "      <th>quiet</th>\n",
       "      <th>balcony</th>\n",
       "      <th>bar</th>\n",
       "      <th>nightlife</th>\n",
       "    </tr>\n",
       "  </thead>\n",
       "  <tbody>\n",
       "    <tr>\n",
       "      <th>0</th>\n",
       "      <td>896</td>\n",
       "      <td>100</td>\n",
       "      <td>0</td>\n",
       "      <td>1</td>\n",
       "      <td>1</td>\n",
       "      <td>0</td>\n",
       "      <td>0</td>\n",
       "      <td>1</td>\n",
       "      <td>0</td>\n",
       "      <td>0</td>\n",
       "      <td>...</td>\n",
       "      <td>0</td>\n",
       "      <td>0</td>\n",
       "      <td>0</td>\n",
       "      <td>0</td>\n",
       "      <td>0</td>\n",
       "      <td>1</td>\n",
       "      <td>0</td>\n",
       "      <td>0</td>\n",
       "      <td>0</td>\n",
       "      <td>0</td>\n",
       "    </tr>\n",
       "    <tr>\n",
       "      <th>1</th>\n",
       "      <td>8</td>\n",
       "      <td>1</td>\n",
       "      <td>0</td>\n",
       "      <td>0</td>\n",
       "      <td>0</td>\n",
       "      <td>0</td>\n",
       "      <td>0</td>\n",
       "      <td>0</td>\n",
       "      <td>0</td>\n",
       "      <td>0</td>\n",
       "      <td>...</td>\n",
       "      <td>0</td>\n",
       "      <td>0</td>\n",
       "      <td>0</td>\n",
       "      <td>0</td>\n",
       "      <td>0</td>\n",
       "      <td>0</td>\n",
       "      <td>0</td>\n",
       "      <td>0</td>\n",
       "      <td>0</td>\n",
       "      <td>0</td>\n",
       "    </tr>\n",
       "    <tr>\n",
       "      <th>2</th>\n",
       "      <td>891</td>\n",
       "      <td>93</td>\n",
       "      <td>1</td>\n",
       "      <td>1</td>\n",
       "      <td>0</td>\n",
       "      <td>1</td>\n",
       "      <td>0</td>\n",
       "      <td>1</td>\n",
       "      <td>1</td>\n",
       "      <td>1</td>\n",
       "      <td>...</td>\n",
       "      <td>0</td>\n",
       "      <td>0</td>\n",
       "      <td>0</td>\n",
       "      <td>0</td>\n",
       "      <td>0</td>\n",
       "      <td>0</td>\n",
       "      <td>0</td>\n",
       "      <td>0</td>\n",
       "      <td>0</td>\n",
       "      <td>0</td>\n",
       "    </tr>\n",
       "    <tr>\n",
       "      <th>3</th>\n",
       "      <td>0</td>\n",
       "      <td>1</td>\n",
       "      <td>0</td>\n",
       "      <td>0</td>\n",
       "      <td>0</td>\n",
       "      <td>0</td>\n",
       "      <td>0</td>\n",
       "      <td>0</td>\n",
       "      <td>0</td>\n",
       "      <td>0</td>\n",
       "      <td>...</td>\n",
       "      <td>0</td>\n",
       "      <td>0</td>\n",
       "      <td>0</td>\n",
       "      <td>0</td>\n",
       "      <td>0</td>\n",
       "      <td>0</td>\n",
       "      <td>0</td>\n",
       "      <td>0</td>\n",
       "      <td>0</td>\n",
       "      <td>0</td>\n",
       "    </tr>\n",
       "    <tr>\n",
       "      <th>4</th>\n",
       "      <td>532</td>\n",
       "      <td>64</td>\n",
       "      <td>0</td>\n",
       "      <td>1</td>\n",
       "      <td>0</td>\n",
       "      <td>0</td>\n",
       "      <td>0</td>\n",
       "      <td>1</td>\n",
       "      <td>0</td>\n",
       "      <td>1</td>\n",
       "      <td>...</td>\n",
       "      <td>0</td>\n",
       "      <td>0</td>\n",
       "      <td>0</td>\n",
       "      <td>0</td>\n",
       "      <td>0</td>\n",
       "      <td>0</td>\n",
       "      <td>1</td>\n",
       "      <td>1</td>\n",
       "      <td>0</td>\n",
       "      <td>0</td>\n",
       "    </tr>\n",
       "  </tbody>\n",
       "</table>\n",
       "<p>5 rows × 48 columns</p>\n",
       "</div>"
      ],
      "text/plain": [
       "   desc_len  keyword_count  renovated  stainless  large  high  great  marble  \\\n",
       "0       896            100          0          1      1     0      0       1   \n",
       "1         8              1          0          0      0     0      0       0   \n",
       "2       891             93          1          1      0     1      0       1   \n",
       "3         0              1          0          0      0     0      0       0   \n",
       "4       532             64          0          1      0     0      0       1   \n",
       "\n",
       "   park  granite  ...  exclusive  bright  sun  rooftop  gorgeous  price  \\\n",
       "0     0        0  ...          0       0    0        0         0      1   \n",
       "1     0        0  ...          0       0    0        0         0      0   \n",
       "2     1        1  ...          0       0    0        0         0      0   \n",
       "3     0        0  ...          0       0    0        0         0      0   \n",
       "4     0        1  ...          0       0    0        0         0      0   \n",
       "\n",
       "   quiet  balcony  bar  nightlife  \n",
       "0      0        0    0          0  \n",
       "1      0        0    0          0  \n",
       "2      0        0    0          0  \n",
       "3      0        0    0          0  \n",
       "4      1        1    0          0  \n",
       "\n",
       "[5 rows x 48 columns]"
      ]
     },
     "execution_count": 50,
     "metadata": {},
     "output_type": "execute_result"
    }
   ],
   "source": [
    "#during the MultiLabelbinarizer step, we have lost the original indices. \n",
    "#As pandas is not able to join properly two dfs with different indices, \n",
    "#we first have to reset them for both dataframes.\n",
    "\n",
    "df_desc.reset_index(drop=True, inplace=True)\n",
    "df_desc_cols.reset_index(drop=True, inplace=True)\n",
    "\n",
    "final_description=pd.concat([df_desc,df_desc_cols], axis=1)\n",
    "final_description=final_description.drop([\"description\", \"description_pre\", \"keywords\", \"keyw_lists\"], axis=1)\n",
    "\n",
    "#saving everything to a pickle file, just in case :-)\n",
    "final_description.to_pickle(\"./final_description.pkl\")\n",
    "\n",
    "final_description.head()"
   ]
  },
  {
   "cell_type": "code",
   "execution_count": 51,
   "metadata": {},
   "outputs": [],
   "source": [
    "#Finally, we concatenate our Dataframe we have generated for the description again with the full df, to continue with the next features\n",
    "\n",
    "df.reset_index(drop=True, inplace=True)\n",
    "\n",
    "df=pd.concat([final_description,df], axis=1)"
   ]
  },
  {
   "cell_type": "markdown",
   "metadata": {},
   "source": [
    "**'Feature' column**"
   ]
  },
  {
   "cell_type": "code",
   "execution_count": 52,
   "metadata": {},
   "outputs": [
    {
     "name": "stdout",
     "output_type": "stream",
     "text": [
      "unique features original: 1295\n",
      "total amount of features: 271124\n",
      "elevator                                                                                                    26273\n",
      "hardwood floors                                                                                             23558\n",
      "cats allowed                                                                                                23540\n",
      "dogs allowed                                                                                                22035\n",
      "doorman                                                                                                     20967\n",
      "                                                                                                            ...  \n",
      "** classy condo gem! * massive 2br super share * gourmet kitchen * perfect sun * chic chelsea locale! **        1\n",
      "** modern village marvel * sprawling 2br home * exposed brick * lndry bldg * near the park **                   1\n",
      "9th floor manhattan views                                                                                       1\n",
      "convertible 1br                                                                                                 1\n",
      "**laundry room code is 3401                                                                                     1\n",
      "Name: features, Length: 1294, dtype: int64\n"
     ]
    }
   ],
   "source": [
    "#creating a subset of our dataframe, just for the sake of avoiding distraction\n",
    "df_feat=pd.DataFrame(df[\"features\"])\n",
    "\n",
    "#creating an array with the unique features, as they are in the original data. \n",
    "#To already put some of them together, all letters will be lowercased:\n",
    "unique_features=df_feat['features'].explode().str.lower().unique()\n",
    "print(\"unique features original: \" + str(unique_features.size))\n",
    "print(\"total amount of features: \"+ str(df_feat['features'].explode().size))\n",
    "\n",
    "#just to hava a nothion of how often features are repeated, we are printing out the number of occurances:\n",
    "print(df_feat.features.explode().str.lower().value_counts())"
   ]
  },
  {
   "cell_type": "markdown",
   "metadata": {},
   "source": [
    "The most common feature \"elevator\" is a feature of over 26000 listings. From our understanding of the flat market, it can really be relevant for the rent price. But as features are sometimes written differently, we will apply some fuzzy matching in the following, to summarize similar features under the same label."
   ]
  },
  {
   "cell_type": "code",
   "execution_count": 53,
   "metadata": {},
   "outputs": [],
   "source": [
    "#pip install fuzzywuzzy\n",
    "#pip install python-Levenshtein\n",
    "from fuzzywuzzy import fuzz \n",
    "from fuzzywuzzy import process "
   ]
  },
  {
   "cell_type": "markdown",
   "metadata": {},
   "source": [
    "As we saw in the last rows of the printout before, some feature descriptions are really long. We will sort these ones out and store our new choices in a new list of strings:"
   ]
  },
  {
   "cell_type": "code",
   "execution_count": 54,
   "metadata": {},
   "outputs": [
    {
     "data": {
      "text/plain": [
       "934"
      ]
     },
     "execution_count": 54,
     "metadata": {},
     "output_type": "execute_result"
    }
   ],
   "source": [
    "unique_short_features = []\n",
    "for x in unique_features:\n",
    "    if len(str(x))<25:\n",
    "        unique_short_features.append(str(x))\n",
    "\n",
    "len(unique_short_features)"
   ]
  },
  {
   "cell_type": "markdown",
   "metadata": {},
   "source": [
    "Nice, we got rid of more than 300 really long feature descriptions that were not suitable to become labels in the later processing. We have not dropped it from the data entirely, we are just not considering for the final labels of columns.\n",
    "\n",
    "In the next step we will compare every feature in our shortlist with every other feature from that same list and calculate their similarity with the \"fuzz.token_sort_ratio\" scorer. The results are stored in a new df \"similarity_sort.\""
   ]
  },
  {
   "cell_type": "code",
   "execution_count": 55,
   "metadata": {},
   "outputs": [
    {
     "data": {
      "text/html": [
       "<div>\n",
       "<style scoped>\n",
       "    .dataframe tbody tr th:only-of-type {\n",
       "        vertical-align: middle;\n",
       "    }\n",
       "\n",
       "    .dataframe tbody tr th {\n",
       "        vertical-align: top;\n",
       "    }\n",
       "\n",
       "    .dataframe thead th {\n",
       "        text-align: right;\n",
       "    }\n",
       "</style>\n",
       "<table border=\"1\" class=\"dataframe\">\n",
       "  <thead>\n",
       "    <tr style=\"text-align: right;\">\n",
       "      <th></th>\n",
       "      <th>feature_sort</th>\n",
       "      <th>match_sort</th>\n",
       "      <th>score_sort</th>\n",
       "    </tr>\n",
       "  </thead>\n",
       "  <tbody>\n",
       "    <tr>\n",
       "      <th>0</th>\n",
       "      <td>swimming pool</td>\n",
       "      <td>swimming pool</td>\n",
       "      <td>100</td>\n",
       "    </tr>\n",
       "    <tr>\n",
       "      <th>1</th>\n",
       "      <td>swimming pool</td>\n",
       "      <td>indoor swimming pool</td>\n",
       "      <td>79</td>\n",
       "    </tr>\n",
       "    <tr>\n",
       "      <th>2</th>\n",
       "      <td>swimming pool</td>\n",
       "      <td>wine cooler</td>\n",
       "      <td>58</td>\n",
       "    </tr>\n",
       "    <tr>\n",
       "      <th>3</th>\n",
       "      <td>swimming pool</td>\n",
       "      <td>wine cooler.</td>\n",
       "      <td>58</td>\n",
       "    </tr>\n",
       "    <tr>\n",
       "      <th>4</th>\n",
       "      <td>swimming pool</td>\n",
       "      <td>spin room</td>\n",
       "      <td>55</td>\n",
       "    </tr>\n",
       "    <tr>\n",
       "      <th>5</th>\n",
       "      <td>doorman</td>\n",
       "      <td>doorman</td>\n",
       "      <td>100</td>\n",
       "    </tr>\n",
       "    <tr>\n",
       "      <th>6</th>\n",
       "      <td>doorman</td>\n",
       "      <td>ft doorman</td>\n",
       "      <td>82</td>\n",
       "    </tr>\n",
       "    <tr>\n",
       "      <th>7</th>\n",
       "      <td>doorman</td>\n",
       "      <td>24/7 doorman</td>\n",
       "      <td>74</td>\n",
       "    </tr>\n",
       "    <tr>\n",
       "      <th>8</th>\n",
       "      <td>doorman</td>\n",
       "      <td>24hr doorman</td>\n",
       "      <td>74</td>\n",
       "    </tr>\n",
       "    <tr>\n",
       "      <th>9</th>\n",
       "      <td>doorman</td>\n",
       "      <td>24 hr doorman</td>\n",
       "      <td>70</td>\n",
       "    </tr>\n",
       "  </tbody>\n",
       "</table>\n",
       "</div>"
      ],
      "text/plain": [
       "    feature_sort            match_sort  score_sort\n",
       "0  swimming pool         swimming pool         100\n",
       "1  swimming pool  indoor swimming pool          79\n",
       "2  swimming pool           wine cooler          58\n",
       "3  swimming pool          wine cooler.          58\n",
       "4  swimming pool             spin room          55\n",
       "5        doorman               doorman         100\n",
       "6        doorman            ft doorman          82\n",
       "7        doorman          24/7 doorman          74\n",
       "8        doorman          24hr doorman          74\n",
       "9        doorman         24 hr doorman          70"
      ]
     },
     "execution_count": 55,
     "metadata": {},
     "output_type": "execute_result"
    }
   ],
   "source": [
    "#The code in this box has been copied from this blogpost:\n",
    "#https://towardsdatascience.com/fuzzywuzzy-find-similar-strings-within-one-column-in-a-pandas-data-frame-99f6c2a0c212\n",
    "\n",
    "score_sort1 = [(x,) + i\n",
    "             for x in unique_short_features \n",
    "             for i in process.extract(x, unique_short_features,scorer=fuzz.token_sort_ratio)]\n",
    "\n",
    "#Create a dataframe from the tuples\n",
    "similarity_sort = pd.DataFrame(score_sort1, columns=['feature_sort','match_sort','score_sort'])\n",
    "similarity_sort.head(10)\n",
    "\n",
    "\n",
    "\n",
    "#similarity_sort.to_excel(\"similarity_sort.xlsx\")"
   ]
  },
  {
   "cell_type": "markdown",
   "metadata": {},
   "source": [
    "In order to check out wich threshold makes sense for our case, we exported the result of our comparisons to Excel. At this point we sensed, that the threshold must be decided by a human, who knows the context and can estimate the risk of falsely classified features.\n",
    "\n",
    "We manually checked until which matching value the matches made sense. At a similarity score of 77, \"no fee\" was matched with \"low fee\", thats were we want to stop the matching. Therefore we set our threshold to 78.\n",
    "\n",
    "In the next step we are matching all our similar features (with a similarity score of 78 or above) together, and therefore removing fuzzy dupliates"
   ]
  },
  {
   "cell_type": "code",
   "execution_count": 56,
   "metadata": {},
   "outputs": [],
   "source": [
    "#remove duplicates with min similarity of 78. The final feature string will be the first encounter of this feature in the list\n",
    "matched_features=process.dedupe(unique_short_features, threshold=78, scorer=fuzz.token_sort_ratio)\n",
    "\n",
    "#transform the output into a list so it can be used in the following function replace_fuzzy_matches\n",
    "choices=list(matched_features)\n",
    "\n",
    "#creating a new column \"matched features\"\n",
    "df_feat['matched_features']=df_feat['features']\n",
    "\n",
    "def replace_fuzzy_matches (featurelist, choices):\n",
    "    \"\"\"the function iterates over a list of features and compares each word of that list with every item in the \"choices\" list. \n",
    "    It replaces every word with its highest scoring match from the choices list.\"\"\"\n",
    "    new_featurelist=[]\n",
    "    for i in range(len(featurelist)):\n",
    "        new_featurelist.append(process.extractOne(featurelist[i],choices, scorer=fuzz.token_sort_ratio)[0])\n",
    "    return new_featurelist"
   ]
  },
  {
   "cell_type": "markdown",
   "metadata": {},
   "source": [
    "in the following the function will be executed on the comlete dataframe column. As this takes several hours, we are saving the file as serialized pickle file in order to be able to use it later again without having to compute everything again."
   ]
  },
  {
   "cell_type": "code",
   "execution_count": null,
   "metadata": {},
   "outputs": [],
   "source": [
    "df_feat['matched_features']=df_feat['matched_features'].apply(lambda x: replace_fuzzy_matches(x, choices)) \n",
    "df_feat.to_pickle(\"./df_feat.pkl\")"
   ]
  },
  {
   "cell_type": "code",
   "execution_count": null,
   "metadata": {},
   "outputs": [],
   "source": [
    "#in order to load the previously computed df, execute:\n",
    "df_feat=pd.read_pickle(\"./df_feat.pkl\")\n",
    "\n",
    "df_feat.head(10)"
   ]
  },
  {
   "cell_type": "markdown",
   "metadata": {},
   "source": [
    "Now we have cleaned all feature wordings so that they are common in all listings of the dataframe. In the next step we want to create columns for the most popular features which will contain binary data (1 if the feature is a feature of the listing, 0 if the feature is not included in that listing. This will enable us to later use this information when we fit our models later."
   ]
  },
  {
   "cell_type": "code",
   "execution_count": null,
   "metadata": {},
   "outputs": [],
   "source": [
    "#getting the most popular 50 features\n",
    "import itertools\n",
    "from collections import Counter\n",
    "a = list(df_feat['matched_features'].values.flatten())\n",
    "feature_list = list(itertools.chain.from_iterable(a))\n",
    "top_50_features = [ x for x, y in Counter(feature_list).most_common(50)]\n",
    "print(top_50_features)"
   ]
  },
  {
   "cell_type": "markdown",
   "metadata": {},
   "source": [
    "From the printout above we see that even after the automated fuzzy matching, some of the features can still be clustered together:\n",
    "\n",
    "- 'hardwood flooring' & 'hardwood'\n",
    "- 'ft doorman' & 'concierge'\n",
    "- 'laundry in building!' & 'laundry room' & 'onsite dry cleaner'\n",
    "- 'in unit washer & dryer' & 'laundry.' & 'washer & dryer'\n",
    "- 'indoor swimming pool' & 'pool'\n",
    "- 'common outdoor space' & 'publicoutdoor'*\n",
    "\n",
    "We will do this by adding the columns of these features."
   ]
  },
  {
   "cell_type": "code",
   "execution_count": null,
   "metadata": {},
   "outputs": [],
   "source": [
    "#Lets first create columns for every feature, using MultiLabelBinarizer:\n",
    "from sklearn.preprocessing import MultiLabelBinarizer\n",
    "mlb = MultiLabelBinarizer()\n",
    "df_fbin= pd.DataFrame(mlb.fit_transform(df_feat['matched_features']), columns= mlb.classes_)\n",
    "df_fbin.shape"
   ]
  },
  {
   "cell_type": "code",
   "execution_count": null,
   "metadata": {},
   "outputs": [],
   "source": [
    "#This big amount of columns will probably lead to overfitting, so we will now only keep\n",
    "#the top 50 features and as well put together the columns with the same meaning, \n",
    "#as described before.\n",
    "df_fbin=df_fbin[top_50_features]\n",
    "\n",
    "df_fbin['hardwood flooring']=df_fbin['hardwood flooring'] + df_fbin['hardwood']\n",
    "df_fbin['ft doorman']=df_fbin['ft doorman'] + df_fbin['concierge']\n",
    "df_fbin['laundry in building!']=df_fbin['laundry in building!'] + df_fbin['laundry room'] + df_fbin['onsite dry cleaner']\n",
    "df_fbin['in unit washer & dryer']=df_fbin['in unit washer & dryer'] + df_fbin['laundry.'] + df_fbin['washer & dryer']\n",
    "df_fbin['pool']=df_fbin['pool'] + df_fbin['indoor swimming pool']\n",
    "df_fbin['common outdoor space']=df_fbin['common outdoor space'] + df_fbin['publicoutdoor']\n",
    "\n",
    "df_fbin=df_fbin.drop(['hardwood', 'concierge', 'laundry room', 'onsite dry cleaner', 'washer & dryer', 'laundry.', 'indoor swimming pool', 'publicoutdoor'], axis=1)\n",
    "\n",
    "df_fbin.head(2)"
   ]
  },
  {
   "cell_type": "markdown",
   "metadata": {},
   "source": [
    "We are almost done with the engineering of the feature column. Lastly, we will just count the number of features and create a new column for that. Maybe it will as well have an impact on price."
   ]
  },
  {
   "cell_type": "code",
   "execution_count": null,
   "metadata": {},
   "outputs": [],
   "source": [
    "df_feat[\"feature_count\"] = df_feat[\"features\"].apply(lambda x: len(x))\n",
    "df_feat.head()"
   ]
  },
  {
   "cell_type": "markdown",
   "metadata": {},
   "source": [
    "The last step now is not to concatenate our df including the binary feature columns, df_feat and the original df. Then we will finally drop the \"features\" and the \"matched_features\" column."
   ]
  },
  {
   "cell_type": "code",
   "execution_count": null,
   "metadata": {},
   "outputs": [],
   "source": [
    "#during the MultiLabelbinarizer step, we have lost the original indices. \n",
    "#As pandas is not able to join properly two dfs with different indices, \n",
    "#we first have to reset them for both dataframes.\n",
    "\n",
    "df_feat.reset_index(drop=True, inplace=True)\n",
    "df_fbin.reset_index(drop=True, inplace=True)\n",
    "\n",
    "final_features=pd.concat([df_feat,df_fbin], axis=1)\n",
    "\n",
    "\n",
    "#saving everything to a pickle file, just in case :-)\n",
    "final_features.to_pickle(\"./final_features.pkl\")\n",
    "\n",
    "\n",
    "final_features.head()"
   ]
  },
  {
   "cell_type": "code",
   "execution_count": null,
   "metadata": {},
   "outputs": [],
   "source": [
    "#merge features with original df again and drop processed columns\n",
    "df=pd.concat([final_features,df], axis=1).drop([\"features\", \"matched_features\"], axis=1)"
   ]
  },
  {
   "cell_type": "markdown",
   "metadata": {},
   "source": [
    "Now, let's have a look at the target variable **price**..."
   ]
  },
  {
   "cell_type": "code",
   "execution_count": null,
   "metadata": {},
   "outputs": [],
   "source": [
    "plt.hist(df['price'].dropna(), bins=10)\n",
    "plt.show()"
   ]
  },
  {
   "cell_type": "markdown",
   "metadata": {},
   "source": [
    "There are outliers in the price which we need to get rid of for visualisation... "
   ]
  },
  {
   "cell_type": "code",
   "execution_count": null,
   "metadata": {},
   "outputs": [],
   "source": [
    "#find out value of the 99th percentile\n",
    "plimit = np.percentile(df[\"price\"], 99)\n",
    "\n",
    "# remove outlier above the 99th percentile\n",
    "data = df['price'][df[\"price\"] < plimit]\n",
    "\n",
    "plt.hist(data, bins=50, color='green', alpha=0.7)\n",
    "plt.xlabel('price')\n",
    "plt.ylabel('count')\n",
    "plt.show()"
   ]
  },
  {
   "cell_type": "markdown",
   "metadata": {},
   "source": [
    "The majority of the data looks rather normally distributed but there are many outliers in higher price ranges."
   ]
  },
  {
   "cell_type": "markdown",
   "metadata": {},
   "source": [
    "### Longitude and Latitude\n",
    "\n",
    "Now, we are going to use the geopy library geopy to get the full address from the coordinates as explained [here](https://towardsdatascience.com/reverse-geocoding-in-python-a915acf29eb6). This will allow us to get the detailed address of each set of coordinates."
   ]
  },
  {
   "cell_type": "code",
   "execution_count": null,
   "metadata": {},
   "outputs": [],
   "source": [
    "#Let's create a temporary dataframe to store the coordinates based on the building ids\n",
    "temp_df = df[[\"building_id\", \"longitude\", \"latitude\"]]\n",
    "building_ids = df[\"building_id\"].values\n",
    "unique_building_ids = np.unique(building_ids)\n",
    "\n",
    "#Let's create a temporary dataframe to store the addresses based on the building ids\n",
    "addresses_df = pd.DataFrame(data = unique_building_ids, columns=[\"building_id\"])\n",
    "addresses_df = pd.merge(addresses_df, temp_df, how = 'left', on = \"building_id\")\n",
    "addresses_df['coordinate'] = addresses_df['latitude'].map(str) + ',' + addresses_df['longitude'].map(str)\n",
    "addresses_df = addresses_df.drop(columns=[\"longitude\", \"latitude\"])\n",
    "addresses_df = addresses_df.groupby(by = \"building_id\").max()\n",
    "addresses_df = addresses_df.head(20)"
   ]
  },
  {
   "cell_type": "code",
   "execution_count": null,
   "metadata": {},
   "outputs": [],
   "source": [
    "#tqdm_notebook().pandas()\n",
    "#geolocator = geopy.Nominatim(user_agent='myGeocoder')\n",
    "\n",
    "#rgeocode = RateLimiter(geolocator.reverse, min_delay_seconds=0.001)\n",
    "\n",
    "#addresses_df['Full Address'] = addresses_df['coordinate'].progress_apply(rgeocode)"
   ]
  },
  {
   "cell_type": "code",
   "execution_count": null,
   "metadata": {},
   "outputs": [],
   "source": [
    "addresses_df.head(20)"
   ]
  },
  {
   "cell_type": "code",
   "execution_count": null,
   "metadata": {},
   "outputs": [],
   "source": [
    "#Making a copy to avoid running the previous section twice\n",
    "addresses_df_save = addresses_df.copy()\n",
    "\n",
    "#Changing the building_id from index to column\n",
    "addresses_df_save = addresses_df_save.reset_index()\n",
    "\n",
    "#Concatenate all columns into one\n",
    "addresses_df_save['All columns'] = addresses_df_save[\"building_id\"].astype(str) + \",\" +addresses_df_save['Full Address'].astype(str)\n",
    "\n",
    "#Creating new dataframe with the separated location info\n",
    "loc_df = pd.DataFrame(addresses_df_save['All columns'].apply(lambda x: x.split(\",\")).tolist(), columns = ['building_id','Number', 'Street','Neighborhood', 'Community Board', 'Borough', 'County', 'City', 'Postal Code', 'Country', 'Other1', 'Other2', 'Other3'])\n",
    "\n",
    "loc_df.head(20)"
   ]
  },
  {
   "cell_type": "markdown",
   "metadata": {},
   "source": [
    "The data seems a bit messy, we need to align every column with the right value. For that we can create a function that does this cleaning."
   ]
  },
  {
   "cell_type": "code",
   "execution_count": null,
   "metadata": {},
   "outputs": [],
   "source": [
    "#Clean rows where the address is larger than usual\n",
    "def clean_address_data1(dff):\n",
    "    #iterate over all rows of data frame\n",
    "    for i in range(dff.shape[0]):\n",
    "        e = 12\n",
    "        #Loop to check by how many columns the data is misaligned\n",
    "        while e > 9:\n",
    "            if(dff.iloc[i][e] == \" United States\"):\n",
    "                a = 8\n",
    "                # Loop to reassign each value to its correct column\n",
    "                while a != -1:\n",
    "                    dff.iloc[i][9-a] = dff.iloc[i][e-a]\n",
    "                    a -= 1\n",
    "                break\n",
    "            else:\n",
    "                e -= 1\n",
    "    return dff\n",
    "\n",
    "\n",
    "#Clean rows where the address is smaller than usual\n",
    "def clean_address_data2(dff):\n",
    "    #iterate over all rows of data frame\n",
    "    for i in range(dff.shape[0]):\n",
    "        e = 4\n",
    "        #Loop to check by how many columns the data is misaligned\n",
    "        while e < 9:\n",
    "            if(dff.iloc[i][e] == \" United States\"):\n",
    "                a = 9\n",
    "                b = a-e\n",
    "                # Loop to reassign each value to its correct column\n",
    "                while a != 1:\n",
    "                    dff.iloc[i][a] = dff.iloc[i][a-b]\n",
    "                    a -= 1\n",
    "                break\n",
    "            else:\n",
    "                e += 1\n",
    "    return dff\n",
    "\n",
    "#Resets the data frame to its origin and cleans it again\n",
    "#The resetting is important because the first cleaning function cannot be run an already cleaned dataset\n",
    "def reset_clean_data(dff):\n",
    "    dff2 = dff.copy()\n",
    "    dff2 = clean_address_data1(dff2)\n",
    "    dff2 = clean_address_data2(dff2)\n",
    "    return df2"
   ]
  },
  {
   "cell_type": "code",
   "execution_count": null,
   "metadata": {},
   "outputs": [],
   "source": [
    "clean_loc_df = reset_clean_data(loc_df)\n",
    "clean_loc_df.head(20)"
   ]
  },
  {
   "cell_type": "code",
   "execution_count": null,
   "metadata": {},
   "outputs": [],
   "source": [
    "#Meging the temporary location dataframe with the main dataframe into a new dataframe\n",
    "df2 = pd.merge(df, clean_loc_df, how='left', on='building_id')\n",
    "df2 = df2.drop(columns = [\"Other1\", \"Other2\", \"Other3\"])\n",
    "df2.head(10)"
   ]
  },
  {
   "cell_type": "markdown",
   "metadata": {},
   "source": [
    "Let's save the output from here into a csv file so we avoid running that monstruous chunk of code again :D"
   ]
  },
  {
   "cell_type": "code",
   "execution_count": null,
   "metadata": {},
   "outputs": [],
   "source": [
    "df2.to_csv('output.csv', index=False)"
   ]
  },
  {
   "cell_type": "code",
   "execution_count": null,
   "metadata": {},
   "outputs": [],
   "source": [
    "df2 = pd.read_csv('../downloads/output.csv')"
   ]
  },
  {
   "cell_type": "markdown",
   "metadata": {},
   "source": [
    "Now it seems that we got a somewhat clean set of location data. However, we can notice that there a couple of listings with building id 0 and different latitude and logitude. This means that the listings with a 0 as a bulding id implies anull value! \n",
    "\n",
    "Therefore, we should get the exact addresses for these listings as well and follow the same process."
   ]
  },
  {
   "cell_type": "code",
   "execution_count": null,
   "metadata": {},
   "outputs": [],
   "source": [
    "#Check how many lisitngs with builiding_id = 0\n",
    "tempdf2 = df2.loc[df2[\"building_id\"] == \"0\"]\n",
    "tempdf2.shape[0]"
   ]
  },
  {
   "cell_type": "code",
   "execution_count": null,
   "metadata": {},
   "outputs": [],
   "source": [
    "#Let's create a temporary dataframe to store the coordinates based on the building ids\n",
    "temp_df2 = df2.loc[df2[\"building_id\"] == \"0\"]\n",
    "listing_ids = temp_df2[\"listing_id\"].values\n",
    "temp_df2 = df2[[\"listing_id\", \"longitude\", \"latitude\"]]\n",
    "unique_listing_ids = np.unique(listing_ids)\n",
    "\n",
    "#Let's create a temporary dataframe to store the addresses based on the building ids\n",
    "addresses_df2 = pd.DataFrame(data = unique_listing_ids, columns=[\"listing_id\"])\n",
    "addresses_df2 = pd.merge(addresses_df2, temp_df2, how = 'left', on = \"listing_id\")\n",
    "addresses_df2['coordinate'] = addresses_df2['latitude'].map(str) + ',' + addresses_df2['longitude'].map(str)\n",
    "addresses_df2 = addresses_df2.drop(columns=[\"longitude\", \"latitude\"])\n",
    "addresses_df2.shape[0]"
   ]
  },
  {
   "cell_type": "code",
   "execution_count": null,
   "metadata": {},
   "outputs": [],
   "source": [
    "#tqdm_notebook().pandas()\n",
    "#geolocator = geopy.Nominatim(user_agent='myGeocoder')\n",
    "\n",
    "#rgeocode = RateLimiter(geolocator.reverse, min_delay_seconds=0.001)\n",
    "\n",
    "#addresses_df2['Full Address'] = addresses_df2['coordinate'].progress_apply(rgeocode)"
   ]
  },
  {
   "cell_type": "code",
   "execution_count": null,
   "metadata": {},
   "outputs": [],
   "source": [
    "#Making a copy to avoid running the previous section twice\n",
    "addresses_df2_save = addresses_df2.copy()\n",
    "\n",
    "#Changing the building_id from index to column\n",
    "addresses_df2_save = addresses_df2_save.reset_index()\n",
    "\n",
    "#Concatenate all columns into one\n",
    "addresses_df2_save['All columns'] = addresses_df2_save[\"listing_id\"].astype(str) + \",\" +addresses_df2_save['Full Address'].astype(str)\n",
    "\n",
    "#Creating new dataframe with the separated location info\n",
    "loc_df2 = pd.DataFrame(addresses_df2_save['All columns'].apply(lambda x: x.split(\",\")).tolist(), columns = ['listing_id','Number', 'Street','Neighborhood', 'Community Board', 'Borough', 'County', 'City', 'Postal Code', 'Country', 'Other1', 'Other2'])\n",
    "\n",
    "#Creating a new empty column so we can apply the same cleaning function\n",
    "loc_df2[\"Other3\"]= \"None\"\n",
    "\n",
    "loc_df2.head(20)"
   ]
  },
  {
   "cell_type": "code",
   "execution_count": null,
   "metadata": {},
   "outputs": [],
   "source": [
    "#Resetting and cleaning the data\n",
    "clean_loc_df2 = reset_clean_data(loc_df2)\n",
    "clean_loc_df2.head(20)"
   ]
  },
  {
   "cell_type": "code",
   "execution_count": null,
   "metadata": {},
   "outputs": [],
   "source": [
    "df2[[\"listing_id\"]] = df2[[\"listing_id\"]].astype(str)\n",
    "df3 = pd.merge(df2, clean_loc_df2, how='left', on='listing_id')\n",
    "df3 = df3.drop(columns = [\"Other1\", \"Other2\", \"Other3\"])\n",
    "df3.head(5)"
   ]
  },
  {
   "cell_type": "markdown",
   "metadata": {},
   "source": [
    "Let's save the output again! (Better safe than sorry)"
   ]
  },
  {
   "cell_type": "code",
   "execution_count": null,
   "metadata": {},
   "outputs": [],
   "source": [
    "df3.to_csv('output2.csv', index=False)"
   ]
  },
  {
   "cell_type": "code",
   "execution_count": null,
   "metadata": {},
   "outputs": [],
   "source": [
    "df3 = pd.read_csv('../downloads/output2.csv')"
   ]
  },
  {
   "cell_type": "markdown",
   "metadata": {},
   "source": [
    "Now we have to move the location columns to the right columns and drop the newly created ones to avoid confusion."
   ]
  },
  {
   "cell_type": "code",
   "execution_count": null,
   "metadata": {},
   "outputs": [],
   "source": [
    "#Assigning to the right column values for listings with a building id = 0\n",
    "for i in range(df3.shape[0]):\n",
    "        if df3[\"building_id\"].iloc[i] == \"0\":\n",
    "            df3[\"Number_x\"].iloc[i]          = df3[\"Number_y\"].iloc[i]\n",
    "            df3[\"Street_x\"].iloc[i]          = df3[\"Street_y\"].iloc[i]\n",
    "            df3[\"Neighborhood_x\"].iloc[i]    = df3[\"Neighborhood_y\"].iloc[i]\n",
    "            df3[\"Community Board_x\"].iloc[i] = df3[\"Community Board_y\"].iloc[i]\n",
    "            df3[\"Borough_x\"].iloc[i]         = df3[\"Borough_y\"].iloc[i]\n",
    "            df3[\"County_x\"].iloc[i]          = df3[\"County_y\"].iloc[i]\n",
    "            df3[\"City_x\"].iloc[i]            = df3[\"City_y\"].iloc[i]\n",
    "            df3[\"Postal Code_x\"].iloc[i]     = df3[\"Postal Code_y\"].iloc[i]\n",
    "            df3[\"Country_x\"].iloc[i]         = df3[\"Country_y\"].iloc[i]\n",
    "df3.head(20)"
   ]
  },
  {
   "cell_type": "code",
   "execution_count": null,
   "metadata": {},
   "outputs": [],
   "source": [
    "df3 = df3.drop(columns = [\"Number_y\", \"Street_y\", \"Neighborhood_y\", \"Community Board_y\", \n",
    "               \"Borough_y\", \"County_y\", \"City_y\", \"Postal Code_y\", \"Country_y\"])\n",
    "\n",
    "df3.rename(columns={\"Number_x\": \"Number\", \"Street_x\": \"Street\", \"Neighborhood_x\": \"Neighborhood\", \"Community Board_x\": \"Community Board\", \n",
    "               \"Borough_x\": \"Borough\", \"County_x\": \"County\", \"City_x\": \"City\", \"Postal Code_x\": \"Postal Code\", \"Country_x\": \"Country\"}, inplace=True)\n",
    "df3.head(20)"
   ]
  },
  {
   "cell_type": "markdown",
   "metadata": {},
   "source": [
    "Let's calculate the number of unique columns in our new dataframe"
   ]
  },
  {
   "cell_type": "code",
   "execution_count": null,
   "metadata": {},
   "outputs": [],
   "source": [
    "for col in df3.columns:\n",
    "    try:\n",
    "        print(col, ': ' ,df3[col].nunique())\n",
    "    except:\n",
    "        pass"
   ]
  },
  {
   "cell_type": "markdown",
   "metadata": {},
   "source": [
    "Looking at the number of individual instances of neighborhoods, counties and boroughs. It seems like the data is still not a 100% clean. There are way too many boroughs, counties and neighborhoods. We need to do more in depth cleaning."
   ]
  },
  {
   "cell_type": "code",
   "execution_count": null,
   "metadata": {},
   "outputs": [],
   "source": [
    "print(df3.groupby(by=\"Borough\").size())"
   ]
  },
  {
   "cell_type": "markdown",
   "metadata": {},
   "source": [
    "There seem to be many occurences of **New York**. Let's have a look at how the data is misaligned and reorganize it again."
   ]
  },
  {
   "cell_type": "code",
   "execution_count": null,
   "metadata": {},
   "outputs": [],
   "source": [
    "tempdf3 = df3[df3[\"Borough\"] == \" New York\"]\n",
    "tempdf3"
   ]
  },
  {
   "cell_type": "code",
   "execution_count": null,
   "metadata": {},
   "outputs": [],
   "source": [
    "for i in range(df3.shape[0]):\n",
    "        if df3[\"Borough\"].iloc[i] == \" New York\":\n",
    "            df3[\"Borough\"].iloc[i] = df3[\"Neighborhood\"].iloc[i]\n",
    "            df3[\"Community Board\"].iloc[i] = df3[\"Street\"].iloc[i]\n",
    "            df3[\"Neighborhood\"].iloc[i] = df3[\"Number\"].iloc[i]"
   ]
  },
  {
   "cell_type": "code",
   "execution_count": null,
   "metadata": {},
   "outputs": [],
   "source": [
    "print(df3.groupby(by=\"Borough\").size())"
   ]
  },
  {
   "cell_type": "markdown",
   "metadata": {},
   "source": [
    "There seem to be also many occurences of **Westfield World Trade Center**. Let's have a look at how the data is misaligned and reorganize it again."
   ]
  },
  {
   "cell_type": "code",
   "execution_count": null,
   "metadata": {},
   "outputs": [],
   "source": [
    "tempdf3 = df3[df3[\"Borough\"] == \" Westfield World Trade Center\"]\n",
    "tempdf3"
   ]
  },
  {
   "cell_type": "code",
   "execution_count": null,
   "metadata": {},
   "outputs": [],
   "source": [
    "for i in range(df3.shape[0]):\n",
    "        if df3[\"Borough\"].iloc[i] == \" Westfield World Trade Center\":\n",
    "            df3[\"Neighborhood\"].iloc[i]    = df3[\"Community Board\"].iloc[i]\n",
    "            df3[\"Community Board\"].iloc[i] = df3[\"Borough\"].iloc[i]\n",
    "            df3[\"Borough\"].iloc[i]         = df3[\"County\"].iloc[i]\n",
    "            df3[\"County\"].iloc[i]          = df3[\"City\"].iloc[i]\n",
    "            df3[\"City\"].iloc[i]            = df3[\"Postal Code\"].iloc[i]\n",
    "            "
   ]
  },
  {
   "cell_type": "code",
   "execution_count": null,
   "metadata": {},
   "outputs": [],
   "source": [
    "print(df3.groupby(by=\"Borough\").size())"
   ]
  },
  {
   "cell_type": "markdown",
   "metadata": {},
   "source": [
    "There seem to be also some occurences of **Bronx County** and **Manhattan Community Board 6**. Let's have a look at how the data is misaligned and reorganize it for these instances one last time (I hope)."
   ]
  },
  {
   "cell_type": "code",
   "execution_count": null,
   "metadata": {},
   "outputs": [],
   "source": [
    "tempdf3 = df3[df3[\"Borough\"] == \" Bronx County\"]\n",
    "tempdf3"
   ]
  },
  {
   "cell_type": "code",
   "execution_count": null,
   "metadata": {},
   "outputs": [],
   "source": [
    "for i in range(df2.shape[0]):\n",
    "        if df3[\"Borough\"].iloc[i] == \" Bronx County\":\n",
    "            df3[\"County\"].iloc[i] = df3[\"Borough\"].iloc[i]\n",
    "            df3[\"Borough\"].iloc[i] = df3[\"Community Board\"].iloc[i]"
   ]
  },
  {
   "cell_type": "code",
   "execution_count": null,
   "metadata": {},
   "outputs": [],
   "source": [
    "tempdf3 = df3[df3[\"Borough\"] == \" Manhattan Community Board 6\"]\n",
    "tempdf3"
   ]
  },
  {
   "cell_type": "code",
   "execution_count": null,
   "metadata": {},
   "outputs": [],
   "source": [
    "for i in range(df3.shape[0]):\n",
    "        if df3[\"Borough\"].iloc[i] == \" Manhattan Community Board 6\":\n",
    "            df3[\"Neighborhood\"].iloc[i] = df3[\"Community Board\"].iloc[i]\n",
    "            df3[\"Community Board\"].iloc[i] = df3[\"Borough\"].iloc[i]\n",
    "            df3[\"Borough\"].iloc[i] = df3[\"County\"].iloc[i]\n",
    "            df3[\"County\"].iloc[i] = df3[\"City\"].iloc[i]\n",
    "            df3[\"City\"].iloc[i] = df3[\"Postal Code\"].iloc[i]"
   ]
  },
  {
   "cell_type": "code",
   "execution_count": null,
   "metadata": {},
   "outputs": [],
   "source": [
    "print(df3.groupby(by=\"Borough\").size())"
   ]
  },
  {
   "cell_type": "markdown",
   "metadata": {},
   "source": [
    "After doing a quick google search on the remaining entries for boroughs, we can easily find out that they are not from the city of new york but rather other cities/towns in New York State or other states.\n",
    "\n",
    "As such, it is preferable that we replace all these locations with **\"Outside NYC\"**, not only in the borough column but also in all the other newly created location columns since it will help us with their data cleaning.\n",
    "\n",
    "We will therefore have 6 different entries for boroughs **Manhattan**, **Brooklyn**, **Queens**, **The Bronx**, **Staten Island** and **Outside NYC**."
   ]
  },
  {
   "cell_type": "code",
   "execution_count": null,
   "metadata": {},
   "outputs": [],
   "source": [
    "for i in range(df2.shape[0]):\n",
    "        if df3[\"Borough\"].iloc[i] != \" Queens\" and df3[\"Borough\"].iloc[i] != \" The Bronx\" and df3[\"Borough\"].iloc[i] != \" Manhattan\" and df3[\"Borough\"].iloc[i] != \" Staten Island\" and df3[\"Borough\"].iloc[i] != \" Brooklyn\":\n",
    "            df3[\"Number\"].iloc[i] = \"Outside NYC\"\n",
    "            df3[\"Neighborhood\"].iloc[i] = \"Outside NYC\"\n",
    "            df3[\"Community Board\"].iloc[i] = \"Outside NYC\"\n",
    "            df3[\"Borough\"].iloc[i] = \"Outside NYC\"\n",
    "            df3[\"County\"].iloc[i] = \"Outside NYC\"\n",
    "            df3[\"City\"].iloc[i] = \"Outside NYC\""
   ]
  },
  {
   "cell_type": "code",
   "execution_count": null,
   "metadata": {},
   "outputs": [],
   "source": [
    "print(df3.groupby(by=\"Borough\").size())"
   ]
  },
  {
   "cell_type": "code",
   "execution_count": null,
   "metadata": {},
   "outputs": [],
   "source": [
    "print(df3.groupby(by=\"County\").size())"
   ]
  },
  {
   "cell_type": "markdown",
   "metadata": {},
   "source": [
    "There seem to be an odd county name **Mill Brook Houses**. Let's have a look at how the data is misaligned and reorganize it."
   ]
  },
  {
   "cell_type": "code",
   "execution_count": null,
   "metadata": {},
   "outputs": [],
   "source": [
    "tempdf3 = df3[df3[\"County\"] == \" Mill Brook Houses\"]\n",
    "tempdf3"
   ]
  },
  {
   "cell_type": "code",
   "execution_count": null,
   "metadata": {},
   "outputs": [],
   "source": [
    "for i in range(df3.shape[0]):\n",
    "        if df3[\"County\"].iloc[i] == \" Mill Brook Houses\":\n",
    "            df3[\"Neighborhood\"].iloc[i] = df3[\"Community Board\"].iloc[i]\n",
    "            df3[\"County\"].iloc[i] = \" Bronx County\""
   ]
  },
  {
   "cell_type": "code",
   "execution_count": null,
   "metadata": {},
   "outputs": [],
   "source": [
    "print(df3.groupby(by=\"County\").size())"
   ]
  },
  {
   "cell_type": "code",
   "execution_count": null,
   "metadata": {},
   "outputs": [],
   "source": [
    "print(df3.groupby(by=\"Neighborhood\").size())"
   ]
  },
  {
   "cell_type": "code",
   "execution_count": null,
   "metadata": {},
   "outputs": [],
   "source": [
    "tempdf3 = df3.groupby(by=\"Neighborhood\").size().sort_values(ascending=True)\n",
    "tempdf3.head(1000)"
   ]
  },
  {
   "cell_type": "markdown",
   "metadata": {},
   "source": [
    "As seen above, we can conclude that there are almost a 1000 entries for Neighborhood that are just numbers and some that contain street number with a \"-\" in the middle. We also have rows that contain the building id instead of the neighborhood. Let's try to aligh this data!"
   ]
  },
  {
   "cell_type": "code",
   "execution_count": null,
   "metadata": {},
   "outputs": [],
   "source": [
    "for i in range(df3.shape[0]):\n",
    "        if df3[\"Neighborhood\"].iloc[i].isnumeric():\n",
    "            df3[\"Neighborhood\"].iloc[i] = df3[\"Community Board\"].iloc[i]"
   ]
  },
  {
   "cell_type": "code",
   "execution_count": null,
   "metadata": {},
   "outputs": [],
   "source": [
    "tempdf3 = df3.groupby(by=\"Neighborhood\").size().sort_values(ascending=True)\n",
    "tempdf3.head(10)"
   ]
  },
  {
   "cell_type": "code",
   "execution_count": null,
   "metadata": {},
   "outputs": [],
   "source": [
    "tempdf3 = df3.loc[df3[\"Neighborhood\"].str.len() == 5]\n",
    "tempdf3 = tempdf3.loc[tempdf3[\"Neighborhood\"].str.contains('-')]\n",
    "tempdf3"
   ]
  },
  {
   "cell_type": "code",
   "execution_count": null,
   "metadata": {},
   "outputs": [],
   "source": [
    "#For every neighborhood, we check if the cell contains a \"-\", we remove and check if the cell becomes a number. In that case \n",
    "#it means that it was a street number \n",
    "for i in range(df3.shape[0]):\n",
    "        if df3[\"Neighborhood\"].iloc[i].replace(\"-\",\"\").isnumeric():\n",
    "            df3[\"Neighborhood\"].iloc[i] = df3[\"Community Board\"].iloc[i]"
   ]
  },
  {
   "cell_type": "code",
   "execution_count": null,
   "metadata": {},
   "outputs": [],
   "source": [
    "#Check how many neighborhood fields have 32 characters which is the size of the building id\n",
    "\n",
    "tempdf3 = df3.loc[df3[\"Neighborhood\"].str.len() == 32]\n",
    "tempdf3"
   ]
  },
  {
   "cell_type": "code",
   "execution_count": null,
   "metadata": {},
   "outputs": [],
   "source": [
    "for i in range(df3.shape[0]):\n",
    "        if len(df3[\"Neighborhood\"].iloc[i]) == 32:\n",
    "            df3[\"Neighborhood\"].iloc[i] = df3[\"Community Board\"].iloc[i]"
   ]
  },
  {
   "cell_type": "code",
   "execution_count": null,
   "metadata": {},
   "outputs": [],
   "source": [
    "for col in df3.columns:\n",
    "    try:\n",
    "        print(col, ': ' ,df3[col].nunique())\n",
    "    except:\n",
    "        pass"
   ]
  },
  {
   "cell_type": "markdown",
   "metadata": {},
   "source": [
    "The borough, county and neighborhood columns look clean now!\n",
    "\n",
    "As we will not need the number, street and postal codes, we will drop those columns.\n",
    "\n",
    "Moreover, the community board column wil be dropped as well as this was not preperly cleaned and is already implied from the borough.\n",
    "\n",
    "And finally, we will aslo drop country and city as these columns won't be necessary"
   ]
  },
  {
   "cell_type": "code",
   "execution_count": null,
   "metadata": {},
   "outputs": [],
   "source": [
    "df3 = df3.drop(columns = [\"Number\", \"Street\", \"Community Board\", \"City\", \"Postal Code\", \"Country\"])\n",
    "df3.head(20)"
   ]
  },
  {
   "cell_type": "code",
   "execution_count": null,
   "metadata": {},
   "outputs": [],
   "source": [
    "for col in df3.columns:\n",
    "    try:\n",
    "        print(col, ': ' ,df3[col].nunique())\n",
    "    except:\n",
    "        pass"
   ]
  },
  {
   "cell_type": "code",
   "execution_count": null,
   "metadata": {},
   "outputs": [],
   "source": [
    "plt.figure(figsize=(10,10))\n",
    "\n",
    "tempdf3 = df3[df3[\"price\"] < 150000]\n",
    "\n",
    "plt.subplot(2,2,1)\n",
    "plt.scatter(tempdf3[\"price\"], tempdf3[\"listing_month\"])\n",
    "plt.xlabel(\"price\")\n",
    "plt.ylabel(\"listing_month\")\n",
    "\n",
    "plt.subplot(2,2,2)\n",
    "plt.scatter(tempdf3[\"price\"], tempdf3[\"listing_day/week\"])\n",
    "plt.xlabel(\"price\")\n",
    "plt.ylabel(\"listing_day/week\")\n",
    "\n",
    "plt.subplot(2,2,3)\n",
    "plt.scatter(tempdf3[\"price\"], tempdf3[\"listing_day/month\"])\n",
    "plt.xlabel(\"price\")\n",
    "plt.ylabel(\"listing_day/month\")"
   ]
  },
  {
   "cell_type": "code",
   "execution_count": null,
   "metadata": {},
   "outputs": [],
   "source": [
    "df3[df3[\"price\"] < 150000].boxplot(\"price\", \"Borough\", figsize = (10,8))"
   ]
  },
  {
   "cell_type": "code",
   "execution_count": null,
   "metadata": {},
   "outputs": [],
   "source": [
    "df3[df3[\"price\"] < 150000].boxplot(\"price\", \"County\", figsize = (12,10))"
   ]
  },
  {
   "cell_type": "code",
   "execution_count": null,
   "metadata": {},
   "outputs": [],
   "source": [
    "df3[df3[\"price\"] < 150000].boxplot(\"price\", \"listing_month\", figsize = (12,10))"
   ]
  },
  {
   "cell_type": "code",
   "execution_count": null,
   "metadata": {},
   "outputs": [],
   "source": [
    "#listing_year listing_month\tlisting_day/month\n",
    "\n",
    "df3[df3[\"price\"] < 150000].boxplot(\"price\", \"listing_day/week\", figsize = (12,10))"
   ]
  },
  {
   "cell_type": "code",
   "execution_count": null,
   "metadata": {},
   "outputs": [],
   "source": [
    "df = df3"
   ]
  },
  {
   "cell_type": "markdown",
   "metadata": {},
   "source": [
    "Let's have a look at the **managers**!"
   ]
  },
  {
   "cell_type": "code",
   "execution_count": null,
   "metadata": {},
   "outputs": [],
   "source": [
    "# df which counts how often a manager was involved in a rental\n",
    "\n",
    "\n",
    "manager_df = pd.DataFrame(df.groupby('manager_id').count().iloc[:,-1])\n",
    "manager_df.columns = ['rentals_involved']\n",
    "manager_df.sort_values(by='rentals_involved', ascending = False)\n",
    "manager_df.head()"
   ]
  },
  {
   "cell_type": "markdown",
   "metadata": {},
   "source": [
    "The data indicates that a rather small proportion of managers is responsible for a rather large proportion of rentals. Let's visualize that!"
   ]
  },
  {
   "cell_type": "code",
   "execution_count": null,
   "metadata": {},
   "outputs": [],
   "source": [
    "data_cc = manager_df['rentals_involved'].dropna().sort_values(ascending = False).reset_index(drop = True)\n",
    "plt.plot(data_cc.index+1, data_cc.cumsum()/data_cc.sum())\n",
    "plt.xlabel('number of managers involved')\n",
    "plt.ylabel('cumulative count')\n",
    "plt.show()"
   ]
  },
  {
   "cell_type": "markdown",
   "metadata": {},
   "source": [
    "We can see that aroudn 80 % of all rentals were handled by only 20 % of the managers (~1000)."
   ]
  },
  {
   "cell_type": "markdown",
   "metadata": {},
   "source": [
    "Let's figure out what the mean rental price per manager was. "
   ]
  },
  {
   "cell_type": "code",
   "execution_count": null,
   "metadata": {},
   "outputs": [],
   "source": [
    "manager_df['mean_price'] = df.groupby('manager_id').mean().iloc[:,-1]\n",
    "manager_df.head(5).sort_values(by='mean_price', ascending = False)"
   ]
  },
  {
   "cell_type": "markdown",
   "metadata": {},
   "source": [
    "How are the mean rental prices of each manager distributed?"
   ]
  },
  {
   "cell_type": "code",
   "execution_count": null,
   "metadata": {},
   "outputs": [],
   "source": [
    "plt.hist(manager_df['mean_price'], bins = 100)\n",
    "plt.show()"
   ]
  },
  {
   "cell_type": "markdown",
   "metadata": {},
   "source": [
    "Again, we have outliers which we have to be removed for visualization."
   ]
  },
  {
   "cell_type": "code",
   "execution_count": null,
   "metadata": {},
   "outputs": [],
   "source": [
    "#find out value of the 95th percentile\n",
    "plimit2 = np.percentile(manager_df[\"mean_price\"], 95)\n",
    "\n",
    "# remove outlier above the 99th percentile\n",
    "data2 = manager_df['mean_price'][manager_df[\"mean_price\"] < plimit]\n",
    "\n",
    "plt.hist(data2, bins = 50)\n",
    "plt.show()"
   ]
  },
  {
   "cell_type": "markdown",
   "metadata": {},
   "source": [
    "Just like for the general price above, the mean rental prices per manager also seem to be mostly normally distributed with some outliers for higher price ranges."
   ]
  },
  {
   "cell_type": "markdown",
   "metadata": {},
   "source": [
    "Let's try to assign some kind of score to the managers dependent on their mean rental price. We will do that by assigning all managers to equally sized groups. Afterwards, each manager gets a score based on his or her group."
   ]
  },
  {
   "cell_type": "code",
   "execution_count": null,
   "metadata": {},
   "outputs": [],
   "source": [
    "conditions = [(manager_df['mean_price'] <= np.percentile(manager_df[\"mean_price\"], 10)),\n",
    "    ((manager_df['mean_price'] > np.percentile(manager_df[\"mean_price\"], 10)) & (manager_df['mean_price'] <= np.percentile(manager_df[\"mean_price\"], 20))),\n",
    "    ((manager_df['mean_price'] > np.percentile(manager_df[\"mean_price\"], 20)) & (manager_df['mean_price'] <= np.percentile(manager_df[\"mean_price\"], 30))),\n",
    "    ((manager_df['mean_price'] > np.percentile(manager_df[\"mean_price\"], 30)) & (manager_df['mean_price'] <= np.percentile(manager_df[\"mean_price\"], 40))),\n",
    "    ((manager_df['mean_price'] > np.percentile(manager_df[\"mean_price\"], 40)) & (manager_df['mean_price'] <= np.percentile(manager_df[\"mean_price\"], 50))),\n",
    "    ((manager_df['mean_price'] > np.percentile(manager_df[\"mean_price\"], 50)) & (manager_df['mean_price'] <= np.percentile(manager_df[\"mean_price\"], 60))),\n",
    "    ((manager_df['mean_price'] > np.percentile(manager_df[\"mean_price\"], 60)) & (manager_df['mean_price'] <= np.percentile(manager_df[\"mean_price\"], 70))),\n",
    "    ((manager_df['mean_price'] > np.percentile(manager_df[\"mean_price\"], 70)) & (manager_df['mean_price'] <= np.percentile(manager_df[\"mean_price\"], 80))),\n",
    "    ((manager_df['mean_price'] > np.percentile(manager_df[\"mean_price\"], 80)) & (manager_df['mean_price'] <= np.percentile(manager_df[\"mean_price\"], 90))),\n",
    "    (manager_df['mean_price'] > np.percentile(manager_df[\"mean_price\"], 90))]\n",
    "choices = [1, 2, 3, 4, 5 ,6 ,7 ,8 ,9, 10]\n",
    "manager_df['manager_score'] = np.select(conditions, choices, default=0)\n",
    "manager_df.head()"
   ]
  },
  {
   "cell_type": "markdown",
   "metadata": {},
   "source": [
    "Let's add this new manager_score to our training data."
   ]
  },
  {
   "cell_type": "code",
   "execution_count": null,
   "metadata": {},
   "outputs": [],
   "source": [
    "df = df.merge(manager_df.drop(columns=['rentals_involved', 'mean_price']).reset_index(),how='left', left_on='manager_id', right_on='manager_id')"
   ]
  },
  {
   "cell_type": "markdown",
   "metadata": {},
   "source": [
    "Now, we want to get new features using the **images** available. "
   ]
  },
  {
   "cell_type": "markdown",
   "metadata": {},
   "source": [
    "First of all, we compute the number of images per lisiting and store this info in a dict."
   ]
  },
  {
   "cell_type": "code",
   "execution_count": null,
   "metadata": {},
   "outputs": [],
   "source": [
    "img_dict_count = {}\n",
    "folder1 = '/Users/lucassilbernagel/Documents/_Master HWR Berlin_/1st Semester/Data Science/Project/two-sigma-connect-rental-listing-inquiries/images_sample1'\n",
    "folder1_list = os.listdir(folder1)\n",
    "folder1_list.remove('.DS_Store')\n",
    "for folder2 in folder1_list:\n",
    "    for count, file in enumerate(os.listdir(folder1+\"/\"+folder2)):\n",
    "        img_dict_count[folder2] = count\n",
    "        \n",
    "print(img_dict_count)"
   ]
  },
  {
   "cell_type": "markdown",
   "metadata": {},
   "source": [
    "Secondly, we compute the number pixels per image. Since most of the time one listing has multiple images, we compute the mean of the number pixels of all images per listing."
   ]
  },
  {
   "cell_type": "code",
   "execution_count": null,
   "metadata": {},
   "outputs": [],
   "source": [
    "img_dict_pixels = {}\n",
    "folder3 = '/Users/lucassilbernagel/Documents/_Master HWR Berlin_/1st Semester/Data Science/Project/two-sigma-connect-rental-listing-inquiries/images_sample1'\n",
    "folder3_list = os.listdir(folder1)\n",
    "folder3_list.remove('.DS_Store')\n",
    "for folder4 in folder3_list:\n",
    "    for file in os.listdir(folder3+\"/\"+folder4):\n",
    "        with Image.open(os.path.join(folder3, folder4, file)) as img2:\n",
    "            width, height = img2.size\n",
    "        if img2 is not None:\n",
    "            if folder4 in img_dict_pixels:\n",
    "                img_dict_pixels[folder4].append(height*width)\n",
    "            else:\n",
    "                img_dict_pixels[folder4] = [height*width]\n",
    "                \n",
    "img_dict_pixels_mean = {}\n",
    "\n",
    "for keys in img_dict_pixels:\n",
    "    img_dict_pixels_mean[keys] = np.mean(img_dict_pixels[keys])\n",
    "    \n",
    "print(img_dict_pixels_mean)"
   ]
  },
  {
   "cell_type": "markdown",
   "metadata": {},
   "source": [
    "Now we will create another DataFrame in which we will store our new image information. \n",
    "Afterwards, we'll use this DataFrame to merge it with our training data."
   ]
  },
  {
   "cell_type": "code",
   "execution_count": null,
   "metadata": {},
   "outputs": [],
   "source": [
    "img_df = pd.DataFrame(columns=['listing_id', 'img_count', 'img_mean_pixels'])\n",
    "\n",
    "img_df['listing_id'] = img_dict_pixels_mean.keys()\n",
    "img_df['img_count'] = img_dict_count.values()\n",
    "img_df['img_mean_pixels'] = img_dict_pixels_mean.values()\n",
    "\n",
    "# formatting both DataFrames as strings to avoid a value error\n",
    "img_df.astype(str)\n",
    "df = df.astype(str).merge(img_df,how='left', left_on='listing_id', right_on='listing_id')\n",
    "\n",
    "df_img = df[df['listing_id'].isin(folder1_list)]\n",
    "df_img.head(10)"
   ]
  }
 ],
 "metadata": {
  "kernelspec": {
   "display_name": "Python 3",
   "language": "python",
   "name": "python3"
  },
  "language_info": {
   "codemirror_mode": {
    "name": "ipython",
    "version": 3
   },
   "file_extension": ".py",
   "mimetype": "text/x-python",
   "name": "python",
   "nbconvert_exporter": "python",
   "pygments_lexer": "ipython3",
   "version": "3.8.3"
  }
 },
 "nbformat": 4,
 "nbformat_minor": 4
}
